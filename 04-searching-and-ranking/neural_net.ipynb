{
 "cells": [
  {
   "cell_type": "code",
   "execution_count": 169,
   "metadata": {},
   "outputs": [],
   "source": [
    "# https://www.oreilly.com/catalog/errataunconfirmed.csp?isbn=9780596529321\n",
    "# https://resources.oreilly.com/examples/9780596529321/tree/master\n",
    "\n",
    "from math import tanh\n",
    "import sqlite3\n",
    "\n",
    "def dtanh(y):\n",
    "    return 1.0 - y*y\n",
    "\n",
    "class Searchnet:\n",
    "    def __init__(self, dbname):\n",
    "        self.conn = sqlite3.connect(dbname) \n",
    "    \n",
    "    def __del__(self):\n",
    "        self.conn.close()\n",
    "    \n",
    "    def make_tables(self):\n",
    "        c = self.conn.cursor()\n",
    "        c.execute('create table if not exists hiddennode(create_key)')\n",
    "        c.execute('create table if not exists wordhidden(fromid, toid, strength)')\n",
    "        c.execute('create table if not exists hiddenurl(fromid, toid, strength)')\n",
    "        self.conn.commit()\n",
    "        \n",
    "    def get_strength(self, fromid, toid, layer):\n",
    "        table = 'wordhidden' if layer == 0 else 'hiddenurl'\n",
    "        c = self.conn.cursor()\n",
    "        res = c.execute(f'select strength from {table} where fromid = ? and toid = ?', (fromid, toid)).fetchone()\n",
    "        if res == None:\n",
    "            return -0.2 if layer == 0 else 0\n",
    "        return res[0]\n",
    "    \n",
    "    def set_strength(self, fromid, toid, layer, strength):\n",
    "        table = 'wordhidden' if layer == 0 else 'hiddenurl'\n",
    "        c = self.conn.cursor()\n",
    "        res = c.execute(f'select rowid from {table} where fromid = ? and toid = ?', (fromid, toid)).fetchone()\n",
    "        if res == None:\n",
    "            c.execute(f'insert into {table} (fromid, toid, strength) values (?,?,?)', (fromid, toid, strength))\n",
    "        else:\n",
    "            rowid = res[0]\n",
    "            c.execute(f'update {table} set strength = ? where rowid = ?', (strength, rowid))\n",
    "        self.conn.commit()\n",
    "    \n",
    "    def generate_hidden_node(self, wordids, urls):\n",
    "        if len(wordids) > 3: return None\n",
    "        \n",
    "        # Check if we already created a node for this set of words.\n",
    "        createkey = '_'.join(sorted([str(wi) for wi in wordids]))\n",
    "        c = self.conn.cursor()\n",
    "        res = c.execute('select rowid from hiddennode where create_key = ?', (createkey,)).fetchone()\n",
    "        \n",
    "        # If not, create it.\n",
    "        if res == None:\n",
    "            cur = c.execute('insert into hiddennode (create_key) values (?)', (createkey,))\n",
    "            hiddenid = cur.lastrowid\n",
    "            \n",
    "            # Put in some default weights.\n",
    "            for wordid in wordids:\n",
    "                self.set_strength(fromid=wordid, \n",
    "                                  toid=hiddenid, \n",
    "                                  layer=0, \n",
    "                                  strength=1.0/len(wordids))\n",
    "            \n",
    "            for urlid in urls:\n",
    "                self.set_strength(fromid=hiddenid, \n",
    "                                  toid=urlid, \n",
    "                                  layer=1, \n",
    "                                  strength=0.1)\n",
    "\n",
    "            self.conn.commit()\n",
    "\n",
    "    def getall_hiddenids(self, wordids, urlids):\n",
    "        \"\"\"\n",
    "        Feedforward. Query all the nodes and connections in the database, and build in memory the portion \n",
    "        of the network that is relevant to a specific query.\"\"\"\n",
    "        # Layer 1.\n",
    "        l1 = {}\n",
    "        c = self.conn.cursor()\n",
    "        \n",
    "        for wordid in wordids:\n",
    "            cur = c.execute(\n",
    "            'select toid from wordhidden where fromid = ?', (wordid,))\n",
    "            for row in cur:\n",
    "                l1[row[0]] = 1\n",
    "            \n",
    "        for urlid in urlids:\n",
    "            cur = c.execute(\n",
    "            'select fromid from hiddenurl where toid = ?', (urlid,))\n",
    "            for row in cur:\n",
    "                l1[row[0]] = 1\n",
    "\n",
    "        return list(l1.keys())\n",
    "            \n",
    "            \n",
    "    def setup_network(self, wordids, urlids):\n",
    "        # Value lists.\n",
    "        self.wordids = wordids\n",
    "        self.hiddenids = self.getall_hiddenids(wordids, urlids)\n",
    "        self.urlids = urlids\n",
    "        \n",
    "        # Node outputs. a: algorithm?\n",
    "        self.ai = [1.0] * len(self.wordids) # i: Input layer.\n",
    "        self.ah = [1.0] * len(self.hiddenids) # h: Hidden layer.\n",
    "        self.ao = [1.0] * len(self.urlids) # o: Output layer.\n",
    "        \n",
    "        # Create weight matrixs. w: weight, i: input, o: output.\n",
    "        self.wi = [[self.get_strength(wordid, hiddenid, layer=0)\n",
    "                   for hiddenid in self.hiddenids]\n",
    "                   for wordid in self.wordids]\n",
    "        self.wo = [[self.get_strength(hiddenid, urlid, layer=1)\n",
    "                   for urlid in self.urlids]\n",
    "                   for hiddenid in self.hiddenids]\n",
    "    \n",
    "    def feedforward(self):\n",
    "        # The only inputs are the query word.\n",
    "        for i in range(len(self.wordids)):\n",
    "            self.ai[i] = 1.0\n",
    "        \n",
    "        # Hidden activations.\n",
    "        for j in range(len(self.hiddenids)):\n",
    "            sum = 0.0\n",
    "            for i in range(len(self.wordids)):\n",
    "                sum = sum + self.ai[i] * self.wi[i][j]\n",
    "            self.ah[j] = tanh(sum)\n",
    "        \n",
    "        # Output activations.\n",
    "        for k in range(len(self.urlids)):\n",
    "            sum = 0.0\n",
    "            for j in range(len(self.hiddenids)):\n",
    "                sum = sum + self.ah[j] * self.wo[j][k]\n",
    "            self.ao[k] = tanh(sum)\n",
    "        \n",
    "        return self.ao[:]\n",
    "    \n",
    "    def get_result(self, wordids, urlids):\n",
    "        self.setup_network(wordids, urlids)\n",
    "        return self.feedforward()\n",
    "    \n",
    "    def backpropagate(self, targets, N = 0.5):\n",
    "        # Calculate errors for output.\n",
    "        output_deltas = [0.0] * len(self.urlids)\n",
    "        for k in range(len(self.urlids)):\n",
    "            error = targets[k] - self.ao[k]\n",
    "            output_deltas[k] = dtanh(self.ao[k]) * error\n",
    "        \n",
    "        # Calculate errors for hidden layer.\n",
    "        hidden_deltas = [0.0] * len(self.hiddenids)\n",
    "        for j in range(len(self.hiddenids)):\n",
    "            error = 0.0\n",
    "            for k in range(len(self.urlids)):\n",
    "                error = error + output_deltas[k] * self.wo[j][k]\n",
    "            hidden_deltas[j] = dtanh(self.ah[j]) * error\n",
    "        \n",
    "        # Update output weights.\n",
    "        for j in range(len(self.hiddenids)):\n",
    "            for k in range(len(self.urlids)):\n",
    "                change = output_deltas[k] * self.ah[j]\n",
    "                self.wo[j][k] = self.wo[j][k] + N * change\n",
    "        \n",
    "        # Update input weights.\n",
    "        for i in range(len(self.wordids)):\n",
    "            for j in range(len(self.hiddenids)):\n",
    "                change = hidden_deltas[j] * self.ai[i]\n",
    "                self.wi[i][j] = self.wi[i][j] + N * change\n",
    "    \n",
    "    def train_query(self, wordids, urlids, selectedurl):\n",
    "        # Generate a hidden node if necessary.\n",
    "        self.generate_hidden_node(wordids, urlids)\n",
    "        \n",
    "        self.setup_network(wordids, urlids)\n",
    "        self.feedforward()\n",
    "        targets = [0.0] * len(urlids)\n",
    "        targets[urlids.index(selectedurl)] = 1.0\n",
    "        error = self.backpropagate(targets)\n",
    "        self.update_database()\n",
    "    \n",
    "    def update_database(self):\n",
    "        # Set them the database values.\n",
    "        for i in range(len(self.wordids)):\n",
    "            for j in range(len(self.hiddenids)):\n",
    "                self.set_strength(self.wordids[i], self.hiddenids[j], 0, self.wi[i][j])\n",
    "        \n",
    "        for j in range(len(self.hiddenids)):\n",
    "            for k in range(len(self.urlids)):\n",
    "                self.set_strength(self.hiddenids[j], self.urlids[k], 1, self.wo[j][k])\n",
    "        self.conn.commit()"
   ]
  },
  {
   "cell_type": "code",
   "execution_count": 170,
   "metadata": {},
   "outputs": [],
   "source": [
    "net = Searchnet('nn.db')\n",
    "net.make_tables()"
   ]
  },
  {
   "cell_type": "code",
   "execution_count": 171,
   "metadata": {},
   "outputs": [
    {
     "data": {
      "text/plain": [
       "[(101, 1, 2254.848039955704), (103, 1, 2254.848039955704)]"
      ]
     },
     "execution_count": 171,
     "metadata": {},
     "output_type": "execute_result"
    }
   ],
   "source": [
    "# Words are prefixed with w_.\n",
    "w_world, w_river, w_bank = 101, 102, 103\n",
    "\n",
    "# Urls are prefixed with u_.\n",
    "u_worldbank, u_river, u_earth = 201, 202, 203\n",
    "\n",
    "wordids = [w_world, w_bank]\n",
    "urls = [u_worldbank, u_river, u_earth]\n",
    "net.generate_hidden_node(wordids, urls)\n",
    "[c for c in net.conn.execute('select * from wordhidden')]"
   ]
  },
  {
   "cell_type": "code",
   "execution_count": 172,
   "metadata": {},
   "outputs": [
    {
     "data": {
      "text/plain": [
       "[(1, 201, 1.6469085770077627),\n",
       " (1, 202, 0.0009942320893848347),\n",
       " (1, 203, 0.0009942320893848347)]"
      ]
     },
     "execution_count": 172,
     "metadata": {},
     "output_type": "execute_result"
    }
   ],
   "source": [
    "[c for c in net.conn.execute('select * from hiddenurl')]"
   ]
  },
  {
   "cell_type": "code",
   "execution_count": 173,
   "metadata": {},
   "outputs": [
    {
     "data": {
      "text/plain": [
       "[0.9284321852314656, 0.0009942317617863366, 0.0009942317617863366]"
      ]
     },
     "execution_count": 173,
     "metadata": {},
     "output_type": "execute_result"
    }
   ],
   "source": [
    "net.get_result(wordids, urls)"
   ]
  },
  {
   "cell_type": "code",
   "execution_count": 176,
   "metadata": {},
   "outputs": [
    {
     "data": {
      "text/plain": [
       "[0.9304126862240898, 0.00012427922551992506, 0.00012427922551992506]"
      ]
     },
     "execution_count": 176,
     "metadata": {},
     "output_type": "execute_result"
    }
   ],
   "source": [
    "net.train_query(wordids, urls, u_worldbank)\n",
    "net.get_result(wordids, urls)"
   ]
  },
  {
   "cell_type": "code",
   "execution_count": 179,
   "metadata": {},
   "outputs": [],
   "source": [
    "for i in range(30):\n",
    "    net.train_query([w_world, w_bank], urls, u_worldbank)\n",
    "    net.train_query([w_river, w_bank], urls, u_river)\n",
    "    net.train_query([w_world], urls, u_earth)"
   ]
  },
  {
   "cell_type": "code",
   "execution_count": 180,
   "metadata": {},
   "outputs": [
    {
     "data": {
      "text/plain": [
       "[0.8387430775215277, 0.0122721330323893, 0.013456929658331038]"
      ]
     },
     "execution_count": 180,
     "metadata": {},
     "output_type": "execute_result"
    }
   ],
   "source": [
    "net.get_result([w_world, w_bank], urls)"
   ]
  },
  {
   "cell_type": "code",
   "execution_count": 181,
   "metadata": {},
   "outputs": [
    {
     "data": {
      "text/plain": [
       "[-0.029686235126554737, 0.908858940781442, 0.01656004208434448]"
      ]
     },
     "execution_count": 181,
     "metadata": {},
     "output_type": "execute_result"
    }
   ],
   "source": [
    "net.get_result([w_river, w_bank], urls)"
   ]
  },
  {
   "cell_type": "code",
   "execution_count": 182,
   "metadata": {},
   "outputs": [
    {
     "data": {
      "text/plain": [
       "[0.8601970829129808, 0.2492609006509291, -0.2620614237632982]"
      ]
     },
     "execution_count": 182,
     "metadata": {},
     "output_type": "execute_result"
    }
   ],
   "source": [
    "net.get_result([w_bank], urls)"
   ]
  }
 ],
 "metadata": {
  "kernelspec": {
   "display_name": "Python 3",
   "language": "python",
   "name": "python3"
  },
  "language_info": {
   "codemirror_mode": {
    "name": "ipython",
    "version": 3
   },
   "file_extension": ".py",
   "mimetype": "text/x-python",
   "name": "python",
   "nbconvert_exporter": "python",
   "pygments_lexer": "ipython3",
   "version": "3.7.3"
  }
 },
 "nbformat": 4,
 "nbformat_minor": 2
}
