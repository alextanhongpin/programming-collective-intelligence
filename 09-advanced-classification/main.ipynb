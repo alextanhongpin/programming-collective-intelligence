{
 "cells": [
  {
   "cell_type": "code",
   "execution_count": 2,
   "metadata": {},
   "outputs": [],
   "source": [
    "class MatchRow:\n",
    "    def __init__(self, row, all_num=False):\n",
    "        if all_num:\n",
    "            self.data = [float(row[i]) for i in range(len(row) - 1)]\n",
    "        else:\n",
    "            self.data = row[0:len(row) - 1]\n",
    "        self.match = int(row[len(row) - 1])"
   ]
  },
  {
   "cell_type": "code",
   "execution_count": 5,
   "metadata": {},
   "outputs": [],
   "source": [
    "def load_match(file, all_num=False):\n",
    "    rows = []\n",
    "    with open(file) as f:\n",
    "        for line in f:\n",
    "            rows.append(MatchRow(line.split(','), all_num))\n",
    "    return rows"
   ]
  },
  {
   "cell_type": "code",
   "execution_count": 6,
   "metadata": {},
   "outputs": [],
   "source": [
    "ages_only = load_match('agesonly.csv', all_num=True)\n",
    "matchmaker = load_match('matchmaker.csv')"
   ]
  },
  {
   "cell_type": "code",
   "execution_count": 24,
   "metadata": {},
   "outputs": [],
   "source": [
    "%matplotlib inline\n",
    "import matplotlib.pyplot as plt\n",
    "def plot_age_matches(rows):\n",
    "    xdm, ydm = [r.data[0] for r in rows if r.match == 1], [r.data[1] for r in rows if r.match == 1]\n",
    "    xdn, ydn = [r.data[0] for r in rows if r.match == 0], [r.data[1] for r in rows if r.match == 0]\n",
    "    \n",
    "    plt.plot(xdm, ydm, 'go', label='match')\n",
    "    plt.plot(xdn, ydn, 'ro', label='no match')\n",
    "    plt.legend(loc='upper right')\n",
    "    plt.xlabel(\"man's age\")\n",
    "    plt.ylabel(\"woman's age\")\n",
    "    plt.title('scatter plot of man\\'s versus the woman\\'s age')"
   ]
  },
  {
   "cell_type": "code",
   "execution_count": 25,
   "metadata": {},
   "outputs": [
    {
     "data": {
      "image/png": "[encoded data removed]",
      "text/plain": [
       "<Figure size 432x288 with 1 Axes>"
      ]
     },
     "metadata": {
      "needs_background": "light"
     },
     "output_type": "display_data"
    }
   ],
   "source": [
    "plot_age_matches(ages_only)"
   ]
  },
  {
   "cell_type": "markdown",
   "metadata": {},
   "source": [
    "## Basic linear classification"
   ]
  },
  {
   "cell_type": "code",
   "execution_count": 32,
   "metadata": {},
   "outputs": [],
   "source": [
    "def linear_train(rows):\n",
    "    averages = {}\n",
    "    counts = {}\n",
    "    for row in rows:\n",
    "        # Get the class of this point.\n",
    "        cl = row.match\n",
    "        \n",
    "        averages.setdefault(cl, [0.0] * (len(row.data)))\n",
    "        counts.setdefault(cl, 0)\n",
    "        \n",
    "        # Add this point to the averages.\n",
    "        for i in range(len(row.data)):\n",
    "            averages[cl][i] += float(row.data[i])\n",
    "        \n",
    "        # Keep track of how many points in each class.\n",
    "        counts[cl] += 1\n",
    "    \n",
    "    # Divide sums by counts to get the averages.\n",
    "    for cl, avg in averages.items():\n",
    "        for i in range(len(avg)):\n",
    "            avg[i] /= counts[cl]\n",
    "    return averages"
   ]
  },
  {
   "cell_type": "code",
   "execution_count": 38,
   "metadata": {},
   "outputs": [],
   "source": [
    "avgs = linear_train(ages_only)"
   ]
  },
  {
   "cell_type": "code",
   "execution_count": 39,
   "metadata": {},
   "outputs": [],
   "source": [
    "def dotproduct(v1, v2):\n",
    "    return sum([v1[i] * v2[i] for i in range(len(v1))])"
   ]
  },
  {
   "cell_type": "code",
   "execution_count": 40,
   "metadata": {},
   "outputs": [],
   "source": [
    "def dotproduct_classify(point, avgs):\n",
    "    b = (dotproduct(avgs[1], avgs[1]) - dotproduct(avgs[0], avgs[0])) / 2\n",
    "    y = dotproduct(point, avgs[0]) - dotproduct(point, avgs[1]) + b\n",
    "    if y > 0: return 0\n",
    "    return 1"
   ]
  },
  {
   "cell_type": "code",
   "execution_count": 41,
   "metadata": {},
   "outputs": [
    {
     "data": {
      "text/plain": [
       "1"
      ]
     },
     "execution_count": 41,
     "metadata": {},
     "output_type": "execute_result"
    }
   ],
   "source": [
    "dotproduct_classify([30, 30], avgs)"
   ]
  },
  {
   "cell_type": "code",
   "execution_count": 42,
   "metadata": {},
   "outputs": [],
   "source": [
    "## Categorical features"
   ]
  },
  {
   "cell_type": "code",
   "execution_count": 43,
   "metadata": {},
   "outputs": [],
   "source": [
    "def yesno(v):\n",
    "    if v == 'yes': return 1\n",
    "    if v == 'no': return -1\n",
    "    return 0"
   ]
  },
  {
   "cell_type": "code",
   "execution_count": 44,
   "metadata": {},
   "outputs": [],
   "source": [
    "def match_count(interest1, interest2):\n",
    "    l1 = interest1.split(':')\n",
    "    l2 = interest2.split(':')\n",
    "    x = 0\n",
    "    for v in l1:\n",
    "        if v in l2: x += 1\n",
    "    return x"
   ]
  },
  {
   "cell_type": "code",
   "execution_count": null,
   "metadata": {},
   "outputs": [],
   "source": [
    "def miles_distance(a1, a2):\n",
    "    return 0"
   ]
  }
 ],
 "metadata": {
  "kernelspec": {
   "display_name": "Python 3",
   "language": "python",
   "name": "python3"
  },
  "language_info": {
   "codemirror_mode": {
    "name": "ipython",
    "version": 3
   },
   "file_extension": ".py",
   "mimetype": "text/x-python",
   "name": "python",
   "nbconvert_exporter": "python",
   "pygments_lexer": "ipython3",
   "version": "3.7.3"
  }
 },
 "nbformat": 4,
 "nbformat_minor": 2
}
