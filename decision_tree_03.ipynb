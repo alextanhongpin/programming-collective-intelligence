{
 "cells": [
  {
   "cell_type": "code",
   "execution_count": 20,
   "metadata": {},
   "outputs": [],
   "source": [
    "import numpy as np\n",
    "import math\n",
    "import unittest\n",
    "from collections import Counter"
   ]
  },
  {
   "cell_type": "code",
   "execution_count": 43,
   "metadata": {},
   "outputs": [
    {
     "data": {
      "text/plain": [
       "16"
      ]
     },
     "execution_count": 43,
     "metadata": {},
     "output_type": "execute_result"
    }
   ],
   "source": [
    "data = np.array([\n",
    "    [4.8, 3.4, 1.9, 0.2, True],\n",
    "    [5.0, 3.0, 1.6, 0.2, True],\n",
    "    [5.0, 3.4, 1.6, 0.4, True],\n",
    "    [5.2, 3.5, 1.5, 0.2, True],\n",
    "    [5.2, 3.4, 1.4, 0.2, True],\n",
    "    [4.7, 3.2, 1.6, 0.2, True],\n",
    "    [4.8, 3.1, 1.6, 0.2, True],\n",
    "    [5.4, 3.4, 1.5, 0.4, True],\n",
    "    [7.0, 3.2, 4.7, 1.4, False],\n",
    "    [6.4, 3.2, 4.5, 1.5, False],\n",
    "    [6.9, 3.1, 4.9, 1.5, False],\n",
    "    [5.5, 2.3, 4.0, 1.3, False],\n",
    "    [6.5, 2.8, 4.6, 1.5, False],\n",
    "    [5.7, 2.8, 4.5, 1.3, False],\n",
    "    [6.3, 3.3, 4.7, 1.6, False],\n",
    "    [4.9, 2.4, 3.3, 1.0, False]\n",
    "])\n",
    "len(data)"
   ]
  },
  {
   "cell_type": "code",
   "execution_count": 11,
   "metadata": {},
   "outputs": [],
   "source": [
    "def entropy(t, f):\n",
    "    if t == 0 or f == 0: return 0\n",
    "    n = t + f\n",
    "    fn = lambda p: -p * math.log2(p)\n",
    "    return fn(t / n) + fn(f / n)"
   ]
  },
  {
   "cell_type": "code",
   "execution_count": 29,
   "metadata": {},
   "outputs": [
    {
     "data": {
      "text/plain": [
       "1.0"
      ]
     },
     "execution_count": 29,
     "metadata": {},
     "output_type": "execute_result"
    }
   ],
   "source": [
    "t, f = Counter(data[:, -1]).values()\n",
    "target_entropy = entropy(t, f)\n",
    "target_entropy"
   ]
  },
  {
   "cell_type": "code",
   "execution_count": 33,
   "metadata": {},
   "outputs": [],
   "source": [
    "# Functions to select the values from the dataset.\n",
    "\n",
    "def target_a(n):\n",
    "    return 1 if n >= 5 else 0\n",
    "\n",
    "def target_b(n):\n",
    "    return 1 if n >= 3 else 0\n",
    "\n",
    "def target_c(n):\n",
    "    return 1 if n >= 4.2 else 0\n",
    "\n",
    "def target_d(n):\n",
    "    return 1 if n >= 1.4 else 0"
   ]
  },
  {
   "cell_type": "code",
   "execution_count": 45,
   "metadata": {},
   "outputs": [
    {
     "data": {
      "text/plain": [
       "(5, 7, 0.9798687566511528)"
      ]
     },
     "execution_count": 45,
     "metadata": {},
     "output_type": "execute_result"
    }
   ],
   "source": [
    "gte_five, lt_five = data[data[:, 0] >= 5], data[data[:, 0] < 5]\n",
    "left, right = gte_five[gte_five[:, -1] == True], gte_five[gte_five[:, -1] == False]\n",
    "l, r = len(left), len(right)\n",
    "l, r, entropy(l, r)"
   ]
  },
  {
   "cell_type": "code",
   "execution_count": 16,
   "metadata": {},
   "outputs": [
    {
     "name": "stderr",
     "output_type": "stream",
     "text": [
      ".\n",
      "----------------------------------------------------------------------\n",
      "Ran 1 test in 0.004s\n",
      "\n",
      "OK\n"
     ]
    }
   ],
   "source": [
    "class TestDecisionTree(unittest.TestCase):\n",
    "    def test_entropy(self):\n",
    "        self.assertEqual(0, entropy(0, 5)) # Homogenous (only one class).\n",
    "        self.assertEqual(0, entropy(5, 0)) \n",
    "        self.assertEqual(1, entropy(5, 5)) # Equal distribution.\n",
    "\n",
    "if __name__ == '__main__':\n",
    "    unittest.main(argv=['exclude-first-argument'], exit=False)"
   ]
  },
  {
   "cell_type": "code",
   "execution_count": null,
   "metadata": {},
   "outputs": [],
   "source": []
  }
 ],
 "metadata": {
  "kernelspec": {
   "display_name": "Python 3",
   "language": "python",
   "name": "python3"
  },
  "language_info": {
   "codemirror_mode": {
    "name": "ipython",
    "version": 3
   },
   "file_extension": ".py",
   "mimetype": "text/x-python",
   "name": "python",
   "nbconvert_exporter": "python",
   "pygments_lexer": "ipython3",
   "version": "3.7.3"
  }
 },
 "nbformat": 4,
 "nbformat_minor": 2
}
