{
 "cells": [
  {
   "cell_type": "code",
   "execution_count": 384,
   "metadata": {},
   "outputs": [],
   "source": [
    "import math\n",
    "from collections import Counter\n",
    "from functools import partial, reduce\n",
    "\n",
    "# https://www.saedsayad.com/decision_tree.htm"
   ]
  },
  {
   "cell_type": "code",
   "execution_count": 367,
   "metadata": {},
   "outputs": [
    {
     "data": {
      "text/plain": [
       "[['rainy', 'hot', 'high', 'false', 'no'],\n",
       " ['rainy', 'hot', 'high', 'true', 'no']]"
      ]
     },
     "execution_count": 367,
     "metadata": {},
     "output_type": "execute_result"
    }
   ],
   "source": [
    "# Outlook, Temperature, Humidity, Windy, Play Golf.\n",
    "OUTLOOK = 0\n",
    "TEMPERATURE = 1\n",
    "HUMIDITY = 2\n",
    "WINDY = 3\n",
    "PLAY_GOLF = -1\n",
    "\n",
    "data = \"\"\"rainy hot high false no\n",
    "rainy hot high true no\n",
    "overcast hot high false yes\n",
    "sunny mild high false yes\n",
    "sunny cool normal false yes\n",
    "sunny cool normal true no\n",
    "overcast cool normal true yes\n",
    "rainy mild high false no\n",
    "rainy cool normal false yes\n",
    "sunny mild normal false yes\n",
    "rainy mild normal true yes\n",
    "overcast mild high true yes\n",
    "overcast hot normal false yes\n",
    "sunny mild high true no\"\"\"\n",
    "\n",
    "data = list(map(lambda s: s.split(' '), data.split('\\n')))\n",
    "data[:2]"
   ]
  },
  {
   "cell_type": "code",
   "execution_count": 368,
   "metadata": {},
   "outputs": [
    {
     "data": {
      "text/plain": [
       "True"
      ]
     },
     "execution_count": 368,
     "metadata": {},
     "output_type": "execute_result"
    }
   ],
   "source": [
    "math.log(5) / math.log(2) == math.log2(5)"
   ]
  },
  {
   "cell_type": "code",
   "execution_count": 369,
   "metadata": {},
   "outputs": [],
   "source": [
    "## Entropy\n",
    "\n",
    "def entropy(t, f = 0):\n",
    "    if f == 0: return 0\n",
    "    \"\"\"Calculates the entropy given the number of true and false instances.\"\"\"\n",
    "    n = t + f # The total instances.\n",
    "    fn = lambda p: -p * math.log2(p) \n",
    "    return sum(map(fn, [t / n, f / n]))"
   ]
  },
  {
   "cell_type": "code",
   "execution_count": 370,
   "metadata": {},
   "outputs": [],
   "source": [
    "def partition_by(data, col, val):\n",
    "    result = [], []\n",
    "    for row in data:\n",
    "        result[0 if row[col] == val else 1].append(row)\n",
    "    return result"
   ]
  },
  {
   "cell_type": "code",
   "execution_count": 371,
   "metadata": {},
   "outputs": [],
   "source": [
    "def counter(data, col=-1):\n",
    "    labels = [row[col] for row in data]\n",
    "    return list(Counter(labels).items())"
   ]
  },
  {
   "cell_type": "code",
   "execution_count": 372,
   "metadata": {},
   "outputs": [],
   "source": [
    "def pick(tup, col):\n",
    "    \"\"\"Picks the value from the given tuple.\"\"\"\n",
    "    return tup[col]"
   ]
  },
  {
   "cell_type": "code",
   "execution_count": 373,
   "metadata": {},
   "outputs": [
    {
     "data": {
      "text/plain": [
       "[('no', 5), ('yes', 9)]"
      ]
     },
     "execution_count": 373,
     "metadata": {},
     "output_type": "execute_result"
    }
   ],
   "source": [
    "# Example using the frequency table of one attribute.\n",
    "# Partition by the last column \"Play Golf\" with the value \"yes\" and \"no\".\n",
    "# yes, no = partition_by(data, -1, 'yes')\n",
    "# len(yes), len(no)\n",
    "labels = counter(data)\n",
    "labels"
   ]
  },
  {
   "cell_type": "code",
   "execution_count": 374,
   "metadata": {},
   "outputs": [
    {
     "data": {
      "text/plain": [
       "0.9402859586706311"
      ]
     },
     "execution_count": 374,
     "metadata": {},
     "output_type": "execute_result"
    }
   ],
   "source": [
    "# Handy method to select the second value of the tuple.\n",
    "pick_value = partial(pick, col=1)\n",
    "\n",
    "# To find the entropy of the target, E(PlayGold) = E(9, 5).\n",
    "entropy_target = entropy(*map(pick_value, labels)) # entropy([9, 5]), # 0.9402859586706311\n",
    "entropy_target"
   ]
  },
  {
   "cell_type": "code",
   "execution_count": 375,
   "metadata": {},
   "outputs": [],
   "source": [
    "def entropy_for(data, col):\n",
    "    total = 0.0\n",
    "    n = len(data)\n",
    "    attributes = counter(data, col)\n",
    "    for attribute, _ in attributes:\n",
    "        o, _ = partition_by(data, col, attribute)\n",
    "        print(f'{attribute:10s}: {counter(o)}')\n",
    "        total += entropy(*map(pick_value, counter(o))) * len(o) / n\n",
    "    return total"
   ]
  },
  {
   "cell_type": "code",
   "execution_count": 376,
   "metadata": {},
   "outputs": [
    {
     "name": "stdout",
     "output_type": "stream",
     "text": [
      "rainy     : [('no', 3), ('yes', 2)]\n",
      "overcast  : [('yes', 4)]\n",
      "sunny     : [('yes', 3), ('no', 2)]\n"
     ]
    },
    {
     "data": {
      "text/plain": [
       "0.6935361388961919"
      ]
     },
     "execution_count": 376,
     "metadata": {},
     "output_type": "execute_result"
    }
   ],
   "source": [
    "entropy_for(data, OUTLOOK)"
   ]
  },
  {
   "cell_type": "code",
   "execution_count": 377,
   "metadata": {},
   "outputs": [
    {
     "name": "stdout",
     "output_type": "stream",
     "text": [
      "high      : [('no', 4), ('yes', 3)]\n",
      "normal    : [('yes', 6), ('no', 1)]\n"
     ]
    },
    {
     "data": {
      "text/plain": [
       "0.7884504573082896"
      ]
     },
     "execution_count": 377,
     "metadata": {},
     "output_type": "execute_result"
    }
   ],
   "source": [
    "entropy_for(data, HUMIDITY)"
   ]
  },
  {
   "cell_type": "code",
   "execution_count": 378,
   "metadata": {},
   "outputs": [
    {
     "name": "stdout",
     "output_type": "stream",
     "text": [
      "hot       : [('no', 2), ('yes', 2)]\n",
      "mild      : [('yes', 4), ('no', 2)]\n",
      "cool      : [('yes', 3), ('no', 1)]\n"
     ]
    },
    {
     "data": {
      "text/plain": [
       "0.9110633930116763"
      ]
     },
     "execution_count": 378,
     "metadata": {},
     "output_type": "execute_result"
    }
   ],
   "source": [
    "entropy_for(data, TEMPERATURE)"
   ]
  },
  {
   "cell_type": "code",
   "execution_count": 379,
   "metadata": {},
   "outputs": [
    {
     "name": "stdout",
     "output_type": "stream",
     "text": [
      "false     : [('no', 2), ('yes', 6)]\n",
      "true      : [('no', 3), ('yes', 3)]\n"
     ]
    },
    {
     "data": {
      "text/plain": [
       "0.8921589282623617"
      ]
     },
     "execution_count": 379,
     "metadata": {},
     "output_type": "execute_result"
    }
   ],
   "source": [
    "entropy_for(data, WINDY)"
   ]
  },
  {
   "cell_type": "code",
   "execution_count": 380,
   "metadata": {},
   "outputs": [
    {
     "name": "stdout",
     "output_type": "stream",
     "text": [
      "no        : [('no', 5)]\n",
      "yes       : [('yes', 9)]\n"
     ]
    },
    {
     "data": {
      "text/plain": [
       "0.0"
      ]
     },
     "execution_count": 380,
     "metadata": {},
     "output_type": "execute_result"
    }
   ],
   "source": [
    "entropy_for(data, PLAY_GOLF) # The target entropy has to be calculated separately."
   ]
  },
  {
   "cell_type": "markdown",
   "metadata": {},
   "source": [
    "## Information Gain\n",
    "\n",
    "The information gained is based on the decrease in entropy after a dataset is split on an attribute. The branch is divided based on the attribute that returns the highest information gain. This means the attribute with the higher information gain is preferred."
   ]
  },
  {
   "cell_type": "code",
   "execution_count": 381,
   "metadata": {},
   "outputs": [
    {
     "name": "stdout",
     "output_type": "stream",
     "text": [
      "rainy     : [('no', 3), ('yes', 2)]\n",
      "overcast  : [('yes', 4)]\n",
      "sunny     : [('yes', 3), ('no', 2)]\n"
     ]
    },
    {
     "data": {
      "text/plain": [
       "0.24674981977443922"
      ]
     },
     "execution_count": 381,
     "metadata": {},
     "output_type": "execute_result"
    }
   ],
   "source": [
    "# Gain(T, X) = Entropy(T) - Entropy(T, X)\n",
    "# G(PlayGolf, Outlook) = E(PlayGolf) - E(PlayGolf, Outlook)\n",
    "entropy_target - entropy_for(data, OUTLOOK) # 0.24674981977443922"
   ]
  },
  {
   "cell_type": "code",
   "execution_count": 418,
   "metadata": {},
   "outputs": [
    {
     "name": "stdout",
     "output_type": "stream",
     "text": [
      "rainy     : [('no', 3), ('yes', 2)]\n",
      "overcast  : [('yes', 4)]\n",
      "sunny     : [('yes', 3), ('no', 2)]\n",
      "outlook : 0.24674981977443922\n",
      "\n",
      "hot       : [('no', 2), ('yes', 2)]\n",
      "mild      : [('yes', 4), ('no', 2)]\n",
      "cool      : [('yes', 3), ('no', 1)]\n",
      "humidity : 0.02922256565895487\n",
      "\n",
      "high      : [('no', 4), ('yes', 3)]\n",
      "normal    : [('yes', 6), ('no', 1)]\n",
      "temperature : 0.15183550136234159\n",
      "\n",
      "false     : [('no', 2), ('yes', 6)]\n",
      "true      : [('no', 3), ('yes', 3)]\n",
      "windy : 0.04812703040826949\n",
      "\n"
     ]
    }
   ],
   "source": [
    "# Information Gain.\n",
    "# (('outlook', 0.24674981977443922),\n",
    "#  ('humidity', 0.15183550136234159),\n",
    "#  ('temperature', 0.02922256565895487),\n",
    "#  ('windy', 0.04812703040826949))\n",
    "labels = ['outlook', 'humidity', 'temperature', 'windy']\n",
    "for i in range(4):\n",
    "    print(labels[i],':', entropy_target - entropy_for(data, i))\n",
    "    print()"
   ]
  },
  {
   "cell_type": "markdown",
   "metadata": {},
   "source": [
    "## Gini Index\n",
    "\n",
    "Gini index is a metric to measure how often a randomly chosen element would be incorrectly identified. Attributes with a lower gini index is preferred."
   ]
  },
  {
   "cell_type": "code",
   "execution_count": 421,
   "metadata": {},
   "outputs": [],
   "source": [
    "def gini(t, f=0):\n",
    "    if f == 0: return 0\n",
    "    fn = lambda p: p ** 2\n",
    "    n = t + f\n",
    "    return 1 - fn(t / n) - fn(f / n)"
   ]
  },
  {
   "cell_type": "code",
   "execution_count": 422,
   "metadata": {},
   "outputs": [
    {
     "data": {
      "text/plain": [
       "0.486111111111111"
      ]
     },
     "execution_count": 422,
     "metadata": {},
     "output_type": "execute_result"
    }
   ],
   "source": [
    "gini(5, 7)"
   ]
  },
  {
   "cell_type": "code",
   "execution_count": 409,
   "metadata": {},
   "outputs": [],
   "source": [
    "def gini_for(data, col):\n",
    "    total = 0.0\n",
    "    n = len(data)\n",
    "    attributes = counter(data, col)\n",
    "    for attribute, _ in attributes:\n",
    "        o, _ = partition_by(data, col, attribute)\n",
    "        print(f'{attribute:10s}: {counter(o)}')\n",
    "        total += gini(*map(pick_value, counter(o))) * len(o) / n\n",
    "    return total"
   ]
  },
  {
   "cell_type": "code",
   "execution_count": 414,
   "metadata": {},
   "outputs": [
    {
     "name": "stdout",
     "output_type": "stream",
     "text": [
      "rainy     : [('no', 3), ('yes', 2)]\n",
      "overcast  : [('yes', 4)]\n",
      "sunny     : [('yes', 3), ('no', 2)]\n",
      "0.34285714285714286\n",
      "\n",
      "hot       : [('no', 2), ('yes', 2)]\n",
      "mild      : [('yes', 4), ('no', 2)]\n",
      "cool      : [('yes', 3), ('no', 1)]\n",
      "0.4404761904761905\n",
      "\n",
      "high      : [('no', 4), ('yes', 3)]\n",
      "normal    : [('yes', 6), ('no', 1)]\n",
      "0.3673469387755103\n",
      "\n",
      "false     : [('no', 2), ('yes', 6)]\n",
      "true      : [('no', 3), ('yes', 3)]\n",
      "0.42857142857142855\n",
      "\n"
     ]
    }
   ],
   "source": [
    "for i in range(4):\n",
    "    print(gini_for(data, i))\n",
    "    print()"
   ]
  }
 ],
 "metadata": {
  "kernelspec": {
   "display_name": "Python 3",
   "language": "python",
   "name": "python3"
  },
  "language_info": {
   "codemirror_mode": {
    "name": "ipython",
    "version": 3
   },
   "file_extension": ".py",
   "mimetype": "text/x-python",
   "name": "python",
   "nbconvert_exporter": "python",
   "pygments_lexer": "ipython3",
   "version": "3.7.3"
  }
 },
 "nbformat": 4,
 "nbformat_minor": 2
}
