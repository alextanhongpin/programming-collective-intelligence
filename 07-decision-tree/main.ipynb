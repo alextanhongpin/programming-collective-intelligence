{
 "cells": [
  {
   "cell_type": "code",
   "execution_count": 1,
   "metadata": {},
   "outputs": [],
   "source": [
    "# Referrer, Location, ReadFAQ, Pages Viewed, Service Chosen.\n",
    "data = [['slashdot', 'USA', 'yes', 18, 'None'],\n",
    "        ['google', 'France', 'yes', 23, 'Premium'],\n",
    "        ['digg', 'USA', 'yes', 24, 'Basic'],\n",
    "        ['kiwitobes', 'France', 'yes', 23, 'Basic'],\n",
    "        ['google', 'UK', 'no', 21, 'Premium'],\n",
    "        ['(direct)', 'New Zealand', 'no', 12, 'None'],\n",
    "        ['(direct)', 'UK', 'no', 21, 'Basic'],\n",
    "        ['google', 'USA', 'no', 24, 'Premium'],\n",
    "        ['slashdot', 'France', 'yes', 19, 'None'],\n",
    "        ['digg', 'USA', 'no', 18, 'None'],\n",
    "        ['google', 'UK', 'no', 18, 'None'],\n",
    "        ['kiwitobes', 'UK', 'no', 19, 'None'],\n",
    "        ['digg', 'New Zealand', 'yes', 12, 'Basic'],\n",
    "        ['slashdot', 'UK', 'no', 21, 'None'],\n",
    "        ['google', 'UK', 'yes', 18, 'Basic'], \n",
    "        ['kiwitobes', 'France', 'yes', 19, 'Basic']]"
   ]
  },
  {
   "cell_type": "code",
   "execution_count": 3,
   "metadata": {},
   "outputs": [],
   "source": [
    "class DecisionNode:\n",
    "    def __init__(self, col=-1, value=None, results=None, tb=None, fb=None):\n",
    "        self.col = col\n",
    "        self.value = value\n",
    "        self.results = results\n",
    "        self.tb = tb # Decision nodes, true.\n",
    "        self.fb = fb # Decision nodes, false.\n",
    "    \n",
    "# Divides a set on a specific column. Can handle numeric or nominal values.\n",
    "def divide_set(rows, column, value):\n",
    "    # Make the function that tells us if a row is in \n",
    "    # the first group (true) or the second group (false).\n",
    "    split_function = None\n",
    "    if isinstance(value, int) or isinstance(value, float):\n",
    "        split_function = lambda row: row[column] >= value\n",
    "    else:\n",
    "        split_function = lambda row: row[column] == value\n",
    "\n",
    "    # Divide the rows into two sets and return them.\n",
    "    set1 = [row for row in rows if split_function(row)]\n",
    "    set2 = [row for row in rows if not split_function(row)]\n",
    "    return (set1, set2)"
   ]
  },
  {
   "cell_type": "code",
   "execution_count": 4,
   "metadata": {},
   "outputs": [
    {
     "data": {
      "text/plain": [
       "([['slashdot', 'USA', 'yes', 18, 'None'],\n",
       "  ['google', 'France', 'yes', 23, 'Premium'],\n",
       "  ['digg', 'USA', 'yes', 24, 'Basic'],\n",
       "  ['kiwitobes', 'France', 'yes', 23, 'Basic'],\n",
       "  ['slashdot', 'France', 'yes', 19, 'None'],\n",
       "  ['digg', 'New Zealand', 'yes', 12, 'Basic'],\n",
       "  ['google', 'UK', 'yes', 18, 'Basic'],\n",
       "  ['kiwitobes', 'France', 'yes', 19, 'Basic']],\n",
       " [['google', 'UK', 'no', 21, 'Premium'],\n",
       "  ['(direct)', 'New Zealand', 'no', 12, 'None'],\n",
       "  ['(direct)', 'UK', 'no', 21, 'Basic'],\n",
       "  ['google', 'USA', 'no', 24, 'Premium'],\n",
       "  ['digg', 'USA', 'no', 18, 'None'],\n",
       "  ['google', 'UK', 'no', 18, 'None'],\n",
       "  ['kiwitobes', 'UK', 'no', 19, 'None'],\n",
       "  ['slashdot', 'UK', 'no', 21, 'None']])"
      ]
     },
     "execution_count": 4,
     "metadata": {},
     "output_type": "execute_result"
    }
   ],
   "source": [
    "divide_set(data, 2, 'yes')"
   ]
  },
  {
   "cell_type": "markdown",
   "metadata": {},
   "source": [
    "## Chosing the Best Split"
   ]
  },
  {
   "cell_type": "code",
   "execution_count": 7,
   "metadata": {},
   "outputs": [],
   "source": [
    "# Create counts of possible results (the last column of each\n",
    "# row is the result).\n",
    "def unique_count(rows):\n",
    "    results = {}\n",
    "    for row in rows:\n",
    "        # The result is the last column.\n",
    "        r = row[len(row) - 1]\n",
    "        if r not in results: results[r] = 0\n",
    "        results[r] += 1\n",
    "    return results"
   ]
  },
  {
   "cell_type": "markdown",
   "metadata": {},
   "source": [
    "## Gini Impurity\n",
    "\n",
    "The expected error rate if one of the results from a set is randomly applied to one of the items in the set. If every item in the set is in the same category, the guess will always be correct, so the error rate is 0."
   ]
  },
  {
   "cell_type": "code",
   "execution_count": 8,
   "metadata": {},
   "outputs": [],
   "source": [
    "# Probability that a randomly placed item will be in the wrong category.\n",
    "def gini_impurity(rows):\n",
    "    total = len(rows)\n",
    "    counts = unique_count(rows)\n",
    "    imp = 0\n",
    "    for k1 in counts:\n",
    "        p1 = float(counts[k1]) / total\n",
    "        for k2 in counts:\n",
    "            if k1 == k2: continue\n",
    "            p2 = float(counts[k2]) / total\n",
    "            imp += p1 * p2\n",
    "    return imp"
   ]
  },
  {
   "cell_type": "markdown",
   "metadata": {},
   "source": [
    "## Entropy\n",
    "\n",
    "The amount of disorder in a set - basically, how much mixed a set is."
   ]
  },
  {
   "cell_type": "code",
   "execution_count": 9,
   "metadata": {},
   "outputs": [],
   "source": [
    "# Entropy is the sum of p(x)log(p(x)) across all the different possible results.\n",
    "def entropy(rows):\n",
    "    from math import log\n",
    "    log2 = lambda x: log(x) / log(2)\n",
    "    results = unique_count(rows)\n",
    "    \n",
    "    # Now, calculate the entropy.\n",
    "    ent = 0.0\n",
    "    for r in results.keys():\n",
    "        p = float(results[r]) / len(rows)\n",
    "        ent = ent - p * log2(p)\n",
    "    return ent"
   ]
  },
  {
   "cell_type": "code",
   "execution_count": 10,
   "metadata": {},
   "outputs": [
    {
     "data": {
      "text/plain": [
       "0.6328125"
      ]
     },
     "execution_count": 10,
     "metadata": {},
     "output_type": "execute_result"
    }
   ],
   "source": [
    "gini_impurity(data)"
   ]
  },
  {
   "cell_type": "code",
   "execution_count": 11,
   "metadata": {},
   "outputs": [
    {
     "data": {
      "text/plain": [
       "1.5052408149441479"
      ]
     },
     "execution_count": 11,
     "metadata": {},
     "output_type": "execute_result"
    }
   ],
   "source": [
    "entropy(data)"
   ]
  },
  {
   "cell_type": "code",
   "execution_count": 12,
   "metadata": {},
   "outputs": [
    {
     "data": {
      "text/plain": [
       "1.2987949406953985"
      ]
     },
     "execution_count": 12,
     "metadata": {},
     "output_type": "execute_result"
    }
   ],
   "source": [
    "set1, set2 = divide_set(data, 2, 'yes')\n",
    "entropy(set1)"
   ]
  },
  {
   "cell_type": "code",
   "execution_count": 13,
   "metadata": {},
   "outputs": [
    {
     "data": {
      "text/plain": [
       "0.53125"
      ]
     },
     "execution_count": 13,
     "metadata": {},
     "output_type": "execute_result"
    }
   ],
   "source": [
    "gini_impurity(set1)"
   ]
  },
  {
   "cell_type": "code",
   "execution_count": null,
   "metadata": {},
   "outputs": [],
   "source": []
  }
 ],
 "metadata": {
  "kernelspec": {
   "display_name": "Python 3",
   "language": "python",
   "name": "python3"
  },
  "language_info": {
   "codemirror_mode": {
    "name": "ipython",
    "version": 3
   },
   "file_extension": ".py",
   "mimetype": "text/x-python",
   "name": "python",
   "nbconvert_exporter": "python",
   "pygments_lexer": "ipython3",
   "version": "3.7.3"
  }
 },
 "nbformat": 4,
 "nbformat_minor": 2
}
