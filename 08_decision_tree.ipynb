{
 "cells": [
  {
   "cell_type": "markdown",
   "metadata": {},
   "source": [
    "# Decision Tree\n",
    "\n",
    "Predict how likely a user is going to pay for premium access."
   ]
  },
  {
   "cell_type": "code",
   "execution_count": 49,
   "metadata": {},
   "outputs": [],
   "source": [
    "from collections import Counter, defaultdict, namedtuple\n",
    "import math\n",
    "\n",
    "Node = namedtuple('Node', 'criteria value results true false')"
   ]
  },
  {
   "cell_type": "code",
   "execution_count": 21,
   "metadata": {},
   "outputs": [],
   "source": [
    "# Referrer, Location, ReadFAQ, Pages Viewed, Service Chosen.\n",
    "data = [['slashdot', 'USA', 'yes', 18, 'None'],\n",
    "        ['google', 'France', 'yes', 23, 'Premium'],\n",
    "        ['digg', 'USA', 'yes', 24, 'Basic'],\n",
    "        ['kiwitobes', 'France', 'yes', 23, 'Basic'],\n",
    "        ['google', 'UK', 'no', 21, 'Premium'],\n",
    "        ['(direct)', 'New Zealand', 'no', 12, 'None'],\n",
    "        ['(direct)', 'UK', 'no', 21, 'Basic'],\n",
    "        ['google', 'USA', 'no', 24, 'Premium'],\n",
    "        ['slashdot', 'France', 'yes', 19, 'None'],\n",
    "        ['digg', 'USA', 'no', 18, 'None'],\n",
    "        ['google', 'UK', 'no', 18, 'None'],\n",
    "        ['kiwitobes', 'UK', 'no', 19, 'None'],\n",
    "        ['digg', 'New Zealand', 'yes', 12, 'Basic'],\n",
    "        ['slashdot', 'UK', 'no', 21, 'None'],\n",
    "        ['google', 'UK', 'yes', 18, 'Basic'], \n",
    "        ['kiwitobes', 'France', 'yes', 19, 'Basic']]"
   ]
  },
  {
   "cell_type": "code",
   "execution_count": 23,
   "metadata": {},
   "outputs": [],
   "source": [
    "def partition_by(data, col, value):\n",
    "    split_fn = None\n",
    "    if isinstance(value, int) or isinstance(value, float):\n",
    "        split_fn = lambda row: row[col] >= value\n",
    "    else:\n",
    "        split_fn = lambda row: row[col] == value\n",
    "    \n",
    "    # Divide the rows into two sets and return them.\n",
    "    set1 = [row for row in data if split_fn(row)]\n",
    "    set2 = [row for row in data if not split_fn(row)]\n",
    "    \n",
    "    return set1, set2"
   ]
  },
  {
   "cell_type": "code",
   "execution_count": 25,
   "metadata": {},
   "outputs": [
    {
     "data": {
      "text/plain": [
       "([['slashdot', 'USA', 'yes', 18, 'None'],\n",
       "  ['google', 'France', 'yes', 23, 'Premium'],\n",
       "  ['digg', 'USA', 'yes', 24, 'Basic'],\n",
       "  ['kiwitobes', 'France', 'yes', 23, 'Basic'],\n",
       "  ['slashdot', 'France', 'yes', 19, 'None'],\n",
       "  ['digg', 'New Zealand', 'yes', 12, 'Basic'],\n",
       "  ['google', 'UK', 'yes', 18, 'Basic'],\n",
       "  ['kiwitobes', 'France', 'yes', 19, 'Basic']],\n",
       " [['google', 'UK', 'no', 21, 'Premium'],\n",
       "  ['(direct)', 'New Zealand', 'no', 12, 'None'],\n",
       "  ['(direct)', 'UK', 'no', 21, 'Basic'],\n",
       "  ['google', 'USA', 'no', 24, 'Premium'],\n",
       "  ['digg', 'USA', 'no', 18, 'None'],\n",
       "  ['google', 'UK', 'no', 18, 'None'],\n",
       "  ['kiwitobes', 'UK', 'no', 19, 'None'],\n",
       "  ['slashdot', 'UK', 'no', 21, 'None']])"
      ]
     },
     "execution_count": 25,
     "metadata": {},
     "output_type": "execute_result"
    }
   ],
   "source": [
    "partition_by(data, col=2, value='yes')"
   ]
  },
  {
   "cell_type": "code",
   "execution_count": 34,
   "metadata": {},
   "outputs": [],
   "source": [
    "def counter(data):\n",
    "    labels = [row[-1] for row in data]\n",
    "    return list(Counter(labels).items())"
   ]
  },
  {
   "cell_type": "code",
   "execution_count": 33,
   "metadata": {},
   "outputs": [
    {
     "data": {
      "text/plain": [
       "[('None', 7), ('Premium', 3), ('Basic', 6)]"
      ]
     },
     "execution_count": 33,
     "metadata": {},
     "output_type": "execute_result"
    }
   ],
   "source": [
    "list(counter(data))"
   ]
  },
  {
   "cell_type": "code",
   "execution_count": 47,
   "metadata": {},
   "outputs": [],
   "source": [
    "def gini_impurity(data):\n",
    "    n = len(data)\n",
    "    counts = counter(data)\n",
    "    p = 0\n",
    "    for label, count in counts:\n",
    "        p += (count / n) ** 2\n",
    "    return 1 - p"
   ]
  },
  {
   "cell_type": "code",
   "execution_count": 48,
   "metadata": {},
   "outputs": [
    {
     "data": {
      "text/plain": [
       "0.6328125"
      ]
     },
     "execution_count": 48,
     "metadata": {},
     "output_type": "execute_result"
    }
   ],
   "source": [
    "gini_impurity(data) # 0.6328125"
   ]
  },
  {
   "cell_type": "code",
   "execution_count": 54,
   "metadata": {},
   "outputs": [],
   "source": [
    "def entropy(data):\n",
    "    \"\"\"The amount of disorder in a set - basically how mixed a set is. Prefer lower score.\"\"\"\n",
    "    log2 = lambda x: math.log(x) / math.log(2)\n",
    "    n = len(data)\n",
    "    counts = counter(data)\n",
    "    ent = 0.0\n",
    "    for _, count in counts:\n",
    "        p = count / n\n",
    "        ent -= p * log2(p)\n",
    "    return ent"
   ]
  },
  {
   "cell_type": "code",
   "execution_count": 53,
   "metadata": {},
   "outputs": [
    {
     "data": {
      "text/plain": [
       "1.5052408149441479"
      ]
     },
     "execution_count": 53,
     "metadata": {},
     "output_type": "execute_result"
    }
   ],
   "source": [
    "entropy(data) # 1.5052408149441479"
   ]
  },
  {
   "cell_type": "code",
   "execution_count": 56,
   "metadata": {},
   "outputs": [
    {
     "data": {
      "text/plain": [
       "(1.2987949406953985, 0.53125)"
      ]
     },
     "execution_count": 56,
     "metadata": {},
     "output_type": "execute_result"
    }
   ],
   "source": [
    "set1, set2 = partition_by(data, 2, 'yes')\n",
    "entropy(set1), gini_impurity(set1)"
   ]
  },
  {
   "cell_type": "code",
   "execution_count": null,
   "metadata": {},
   "outputs": [],
   "source": [
    "# def build_tree(data, score_fn=entropy):\n",
    "#     if len(data) == 0: return None\n",
    "#     current_score = score_fn(data)\n",
    "    \n",
    "#     # Set up some variables to track the best criteria.\n",
    "#     best_gain = 0.0\n",
    "#     best_criteria = None\n",
    "#     best_sets = None\n",
    "    \n",
    "#     # The last column is the target.\n",
    "#     for col in range(0, len(data[0]) - 1):"
   ]
  }
 ],
 "metadata": {
  "kernelspec": {
   "display_name": "Python 3",
   "language": "python",
   "name": "python3"
  },
  "language_info": {
   "codemirror_mode": {
    "name": "ipython",
    "version": 3
   },
   "file_extension": ".py",
   "mimetype": "text/x-python",
   "name": "python",
   "nbconvert_exporter": "python",
   "pygments_lexer": "ipython3",
   "version": "3.7.3"
  }
 },
 "nbformat": 4,
 "nbformat_minor": 2
}
