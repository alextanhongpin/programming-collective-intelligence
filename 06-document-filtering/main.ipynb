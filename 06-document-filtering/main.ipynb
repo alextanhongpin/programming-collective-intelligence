{
 "cells": [
  {
   "cell_type": "code",
   "execution_count": 207,
   "metadata": {},
   "outputs": [],
   "source": [
    "import re\n",
    "import math\n",
    "\n",
    "def get_words(doc):\n",
    "    splitter = re.compile('\\W')\n",
    "    # Split the words by non-alpha characters.\n",
    "    words = [s.lower() for s in splitter.split(doc)\n",
    "             if len(s) > 2 and len(s) < 20]\n",
    "    \n",
    "    # Return the unique set of words only.\n",
    "    return dict([(w,1) for w in words])"
   ]
  },
  {
   "cell_type": "code",
   "execution_count": 240,
   "metadata": {},
   "outputs": [],
   "source": [
    "import sqlite3\n",
    "\n",
    "class Classifier:\n",
    "    def __init__(self, get_features, filename=None):\n",
    "        # Counts of feature/category combinations.\n",
    "        self.fc = {}\n",
    "        \n",
    "        # Counts of documents in each category.\n",
    "        self.cc = {}\n",
    "        \n",
    "        self.get_features = get_features\n",
    "        \n",
    "        self.conn = None\n",
    "    \n",
    "    def set_db(self, dbfile):\n",
    "        self.conn = sqlite3.connect(dbfile)\n",
    "        c = self.conn.cursor()\n",
    "        c.execute('create table if not exists fc(feature, category, count)')\n",
    "        c.execute('create table if not exists cc(category, count)')\n",
    "        self.conn.commit()\n",
    "        \n",
    "    def __del__(self):\n",
    "        if not self.conn is None:\n",
    "            self.conn.close()\n",
    "        \n",
    "    # Increase the count of a feature/category pair.\n",
    "    def incf(self, f, cat):\n",
    "        # self.fc.setdefault(f, {})\n",
    "        # self.fc[f].setdefault(cat, 0)\n",
    "        # self.fc[f][cat] += 1\n",
    "        # count = self.fcount(f, cat)\n",
    "        count = self.fcount(f, cat)\n",
    "        c = self.conn.cursor()\n",
    "        if count == 0:\n",
    "            c.execute('insert into fc values (?,?,-1)', (f, cat))\n",
    "        else:\n",
    "            c.execute('update fc set count = ? where feature = ? and category = ?', (count + 1, f, cat))\n",
    "        self.conn.commit()\n",
    "    \n",
    "    # Increase the count of a category.\n",
    "    def incc(self, cat):\n",
    "        # self.cc.setdefault(cat, 0)\n",
    "        # self.cc[cat] += 1\n",
    "        count = self.catcount(cat)\n",
    "        c = self.conn.cursor()\n",
    "        if count == 0:\n",
    "            c.execute('insert into cc values (?, 1)', (cat,))\n",
    "        else:\n",
    "            c.execute('update cc set count = ? where category = ?', (count + 1, cat))\n",
    "        self.conn.commit()\n",
    "    \n",
    "    # The number of times a feature has appeared in a category.\n",
    "    def fcount(self, f, cat):\n",
    "        # if f in self.fc and cat in self.fc[f]:\n",
    "        #    return float(self.fc[f][cat])\n",
    "        # return 0.0\n",
    "        c = self.conn.cursor()\n",
    "        res = c.execute('select count from fc where feature = ? and category = ?', (f, cat)).fetchone()\n",
    "        if res == None: return 0\n",
    "        return float(res[0])\n",
    "\n",
    "    # The number of items in a category.\n",
    "    def catcount(self, cat):\n",
    "        # if cat in self.cc:\n",
    "        #     return float(self.cc[cat])\n",
    "        # return 0\n",
    "        c = self.conn.cursor()\n",
    "        res = c.execute('select count from cc where category = ?', (cat,)).fetchone()\n",
    "        if res == None: return 0\n",
    "        return float(res[0])\n",
    "    \n",
    "    # The total number of items.\n",
    "    def totalcount(self):\n",
    "        # return sum(self.cc.values())\n",
    "        c = self.conn.cursor()\n",
    "        res = c.execute('select sum(count) from cc').fetchone()\n",
    "        if res == None: return 0\n",
    "        return res[0]\n",
    "    \n",
    "    # The list of all categories.\n",
    "    def categories(self):\n",
    "        # return self.cc.keys()\n",
    "        c = self.conn.cursor()\n",
    "        cur = c.execute('select category from cc')\n",
    "        return [d[0] for d in cur]\n",
    "    \n",
    "    def train(self, item, cat):\n",
    "        features = self.get_features(item)\n",
    "        \n",
    "        # Increment the count for every feature with this category.\n",
    "        for f in features:\n",
    "            self.incf(f, cat)\n",
    "        \n",
    "        # Increment the count for this category.\n",
    "        self.incc(cat)\n",
    "        \n",
    "    def fprob(self, f, cat):\n",
    "        if self.catcount(cat) == 0: return 0\n",
    "        # The total number of times this feature appeared in this category divided by the total number\n",
    "        # of items in this category.\n",
    "        return self.fcount(f, cat) / self.catcount(cat)\n",
    "    \n",
    "    def weighted_prob(self, f, cat, prf, weight=1.0, assumed_prob=0.5):\n",
    "        # Calculate the current probability.\n",
    "        basic_prob = prf(f, cat)\n",
    "        \n",
    "        # Count the number of times this feature has appeared in all categories.\n",
    "        totals = sum([self.fcount(f, c) for c in self.categories()])\n",
    "        \n",
    "        # Calculate the weighted average.\n",
    "        bp = ((weight * assumed_prob) + (totals * basic_prob)) / (weight + totals)\n",
    "        return bp"
   ]
  },
  {
   "cell_type": "code",
   "execution_count": 241,
   "metadata": {},
   "outputs": [],
   "source": [
    "clf = Classifier(get_words)\n",
    "clf.set_db('test1.db')"
   ]
  },
  {
   "cell_type": "code",
   "execution_count": 242,
   "metadata": {},
   "outputs": [],
   "source": [
    "# clf.train('the quick brown fox jumps over the lazy dog', 'good')\n",
    "# clf.train('make quick money in the online casino', 'bad')\n",
    "# clf.fcount('quick', 'good')"
   ]
  },
  {
   "cell_type": "code",
   "execution_count": 243,
   "metadata": {},
   "outputs": [
    {
     "data": {
      "text/plain": [
       "0.0"
      ]
     },
     "execution_count": 243,
     "metadata": {},
     "output_type": "execute_result"
    }
   ],
   "source": [
    "clf.fcount('quick', 'bad')"
   ]
  },
  {
   "cell_type": "code",
   "execution_count": 244,
   "metadata": {},
   "outputs": [],
   "source": [
    "def sample_train(clf):\n",
    "    clf.train('Nobody owns the water.', 'good')\n",
    "    clf.train('the quick rabbit jumps fences', 'good')\n",
    "    clf.train('buy pharmaceuticals now', 'bad')\n",
    "    clf.train('make quick money at the online casino', 'bad')\n",
    "    clf.train('the quick brown fox jumps', 'good')\n",
    "sample_train(clf)"
   ]
  },
  {
   "cell_type": "code",
   "execution_count": 245,
   "metadata": {},
   "outputs": [
    {
     "data": {
      "text/plain": [
       "0.0"
      ]
     },
     "execution_count": 245,
     "metadata": {},
     "output_type": "execute_result"
    }
   ],
   "source": [
    "clf.fprob('quick', 'good')"
   ]
  },
  {
   "cell_type": "code",
   "execution_count": 246,
   "metadata": {},
   "outputs": [
    {
     "data": {
      "text/plain": [
       "0.5"
      ]
     },
     "execution_count": 246,
     "metadata": {},
     "output_type": "execute_result"
    }
   ],
   "source": [
    "clf.weighted_prob('money', 'good', clf.fprob)"
   ]
  },
  {
   "cell_type": "code",
   "execution_count": 247,
   "metadata": {},
   "outputs": [],
   "source": [
    "class NaiveBayes(Classifier):\n",
    "    def __init__(self, get_features):\n",
    "        Classifier.__init__(self, get_features)\n",
    "        self.thresholds = {}\n",
    "\n",
    "    def set_threshold(self, cat, t):\n",
    "        self.thresholds[cat] = t\n",
    "        \n",
    "    def get_threshold(self, cat):\n",
    "        if cat not in self.thresholds: return 1.0\n",
    "        return self.thresholds[cat]\n",
    "\n",
    "    def docprob(self, item, cat):\n",
    "        features = self.get_features(item)\n",
    "        \n",
    "        # Multiply the probabilities of all the features together.\n",
    "        p = 1\n",
    "        for f in features: p *= self.weighted_prob(f, cat, self.fprob)\n",
    "        return p\n",
    "    \n",
    "    def prob(self, item, cat):\n",
    "        catprob = self.catcount(cat) / self.totalcount()\n",
    "        docprob = self.docprob(item, cat)\n",
    "        return docprob * catprob\n",
    "    \n",
    "    def classify(self, item, default=None):\n",
    "        probs = {}\n",
    "        # Find the category with the highest probability.\n",
    "        max = 0.0\n",
    "        for cat in self.categories():\n",
    "            probs[cat] = self.prob(item, cat)\n",
    "            if probs[cat] > max:\n",
    "                max = probs[cat]\n",
    "                best = cat\n",
    "\n",
    "        # Make sure the probability exceeds threshold * next best.\n",
    "        for cat in probs:\n",
    "            if cat == best: continue\n",
    "            if probs[cat] * self.get_threshold(best) > probs[best]: return default\n",
    "        return best"
   ]
  },
  {
   "cell_type": "code",
   "execution_count": 248,
   "metadata": {},
   "outputs": [
    {
     "data": {
      "text/plain": [
       "0.15"
      ]
     },
     "execution_count": 248,
     "metadata": {},
     "output_type": "execute_result"
    }
   ],
   "source": [
    "clf = NaiveBayes(get_words)\n",
    "clf.set_db('test1.db')\n",
    "sample_train(clf)\n",
    "clf.prob('quick rabbit', 'good')"
   ]
  },
  {
   "cell_type": "code",
   "execution_count": 249,
   "metadata": {},
   "outputs": [
    {
     "data": {
      "text/plain": [
       "0.1"
      ]
     },
     "execution_count": 249,
     "metadata": {},
     "output_type": "execute_result"
    }
   ],
   "source": [
    "clf.prob('quick rabbit', 'bad')"
   ]
  },
  {
   "cell_type": "code",
   "execution_count": 250,
   "metadata": {},
   "outputs": [
    {
     "data": {
      "text/plain": [
       "'good'"
      ]
     },
     "execution_count": 250,
     "metadata": {},
     "output_type": "execute_result"
    }
   ],
   "source": [
    "clf = NaiveBayes(get_words)\n",
    "clf.set_db('test1.db')\n",
    "sample_train(clf)\n",
    "clf.classify('quick rabbit', default='unknown')"
   ]
  },
  {
   "cell_type": "code",
   "execution_count": 251,
   "metadata": {},
   "outputs": [
    {
     "data": {
      "text/plain": [
       "'good'"
      ]
     },
     "execution_count": 251,
     "metadata": {},
     "output_type": "execute_result"
    }
   ],
   "source": [
    "clf.classify('quick money', default='unknown')"
   ]
  },
  {
   "cell_type": "code",
   "execution_count": 252,
   "metadata": {},
   "outputs": [],
   "source": [
    "clf.set_threshold('bad', 3.0)"
   ]
  },
  {
   "cell_type": "code",
   "execution_count": 253,
   "metadata": {},
   "outputs": [
    {
     "data": {
      "text/plain": [
       "'good'"
      ]
     },
     "execution_count": 253,
     "metadata": {},
     "output_type": "execute_result"
    }
   ],
   "source": [
    "clf.classify('quick money', default='unknown')"
   ]
  },
  {
   "cell_type": "code",
   "execution_count": 254,
   "metadata": {},
   "outputs": [],
   "source": [
    "for i in range(10): sample_train(clf)"
   ]
  },
  {
   "cell_type": "code",
   "execution_count": 255,
   "metadata": {},
   "outputs": [
    {
     "data": {
      "text/plain": [
       "'good'"
      ]
     },
     "execution_count": 255,
     "metadata": {},
     "output_type": "execute_result"
    }
   ],
   "source": [
    "clf.classify('quick money', default='unknown')"
   ]
  },
  {
   "cell_type": "markdown",
   "metadata": {},
   "source": [
    "## The Fisher Method"
   ]
  },
  {
   "cell_type": "code",
   "execution_count": 256,
   "metadata": {},
   "outputs": [],
   "source": [
    "class FisherClassifier(Classifier):\n",
    "    def __init__(self, get_features):\n",
    "        Classifier.__init__(self, get_features)\n",
    "        self.minimums = {}\n",
    "        \n",
    "    def set_minimum(self, cat, min):\n",
    "        self.minimums[cat] = min\n",
    "    \n",
    "    def get_minimum(self, cat):\n",
    "        if cat not in self.minimums: return 0\n",
    "        return self.minimums[cat]\n",
    "\n",
    "    def cprob(self, f, cat):\n",
    "        # The frequency of this feature in this category.\n",
    "        clf = self.fprob(f, cat)\n",
    "        if clf == 0: return 0\n",
    "        \n",
    "        # The frequency of this feature in all the categories.\n",
    "        freq_sum = sum([self.fprob(f,c) for c in self.categories()])\n",
    "        \n",
    "        # The probability is the frequency in the category divided by the overall frequency.\n",
    "        p = clf / freq_sum\n",
    "        \n",
    "        return p\n",
    "    \n",
    "    def fisherprob(self, item, cat):\n",
    "        # Multiply all the probabilities together.\n",
    "        p = 1\n",
    "        features = self.get_features(item)\n",
    "        for f in features:\n",
    "            p *= (self.weighted_prob(f, cat, self.cprob))\n",
    "            \n",
    "        # Take the natural log and multiply by -2.\n",
    "        fscore = -2 * math.log(p)\n",
    "        \n",
    "        # Use the inverse chi2 function to get the probability.\n",
    "        return self.invchi2(fscore, len(features) * 2)\n",
    "    \n",
    "    def invchi2(self, chi, df):\n",
    "        m = chi / 2.0\n",
    "        sum = term = math.exp(-m)\n",
    "        for i in range(1, df//2):\n",
    "            term *= m / i\n",
    "            sum += term\n",
    "        return min(sum, 1.0)\n",
    "    \n",
    "    def classify(self, item, default=None):\n",
    "        # Loop through looking for the best result.\n",
    "        best = default \n",
    "        max = 0.0\n",
    "        for c in self.categories():\n",
    "            p = self.fisherprob(item, c)\n",
    "            # Make sure it exceeds its minimum.\n",
    "            if p > self.get_minimum(c) and p > max:\n",
    "                best = c\n",
    "                max = p\n",
    "        return best"
   ]
  },
  {
   "cell_type": "code",
   "execution_count": 257,
   "metadata": {},
   "outputs": [
    {
     "data": {
      "text/plain": [
       "0"
      ]
     },
     "execution_count": 257,
     "metadata": {},
     "output_type": "execute_result"
    }
   ],
   "source": [
    "clf = FisherClassifier(get_words)\n",
    "clf.set_db('test1.db')\n",
    "sample_train(clf)\n",
    "clf.cprob('quick', 'good')"
   ]
  },
  {
   "cell_type": "code",
   "execution_count": 258,
   "metadata": {},
   "outputs": [
    {
     "data": {
      "text/plain": [
       "0"
      ]
     },
     "execution_count": 258,
     "metadata": {},
     "output_type": "execute_result"
    }
   ],
   "source": [
    "clf.cprob('money', 'bad')"
   ]
  },
  {
   "cell_type": "code",
   "execution_count": 259,
   "metadata": {},
   "outputs": [
    {
     "data": {
      "text/plain": [
       "0.5"
      ]
     },
     "execution_count": 259,
     "metadata": {},
     "output_type": "execute_result"
    }
   ],
   "source": [
    "clf.weighted_prob('money', 'bad', clf.cprob)"
   ]
  },
  {
   "cell_type": "code",
   "execution_count": 268,
   "metadata": {},
   "outputs": [
    {
     "data": {
      "text/plain": [
       "0"
      ]
     },
     "execution_count": 268,
     "metadata": {},
     "output_type": "execute_result"
    }
   ],
   "source": [
    "# With fisherprob.\n",
    "clf = FisherClassifier(get_words)\n",
    "clf.set_db('test1.db')\n",
    "sample_train(clf)\n",
    "clf.cprob('quick', 'good')"
   ]
  },
  {
   "cell_type": "code",
   "execution_count": 269,
   "metadata": {},
   "outputs": [
    {
     "data": {
      "text/plain": [
       "0.5965735902799727"
      ]
     },
     "execution_count": 269,
     "metadata": {},
     "output_type": "execute_result"
    }
   ],
   "source": [
    "clf.fisherprob('quick rabbit', 'good')"
   ]
  },
  {
   "cell_type": "code",
   "execution_count": 270,
   "metadata": {},
   "outputs": [
    {
     "data": {
      "text/plain": [
       "0.5965735902799727"
      ]
     },
     "execution_count": 270,
     "metadata": {},
     "output_type": "execute_result"
    }
   ],
   "source": [
    "clf.fisherprob('quick rabbit', 'bad')"
   ]
  },
  {
   "cell_type": "code",
   "execution_count": 271,
   "metadata": {},
   "outputs": [
    {
     "data": {
      "text/plain": [
       "'good'"
      ]
     },
     "execution_count": 271,
     "metadata": {},
     "output_type": "execute_result"
    }
   ],
   "source": [
    "clf.classify('quick rabbit')"
   ]
  },
  {
   "cell_type": "code",
   "execution_count": 272,
   "metadata": {},
   "outputs": [
    {
     "data": {
      "text/plain": [
       "'good'"
      ]
     },
     "execution_count": 272,
     "metadata": {},
     "output_type": "execute_result"
    }
   ],
   "source": [
    "clf.classify('quick money')"
   ]
  },
  {
   "cell_type": "code",
   "execution_count": 273,
   "metadata": {},
   "outputs": [
    {
     "data": {
      "text/plain": [
       "'good'"
      ]
     },
     "execution_count": 273,
     "metadata": {},
     "output_type": "execute_result"
    }
   ],
   "source": [
    "clf.set_minimum('bad', 0.8)\n",
    "clf.classify('quick money')"
   ]
  },
  {
   "cell_type": "code",
   "execution_count": 274,
   "metadata": {},
   "outputs": [
    {
     "data": {
      "text/plain": [
       "'good'"
      ]
     },
     "execution_count": 274,
     "metadata": {},
     "output_type": "execute_result"
    }
   ],
   "source": [
    "clf.set_minimum('good', 0.4)\n",
    "clf.classify('quick money')"
   ]
  },
  {
   "cell_type": "markdown",
   "metadata": {},
   "source": [
    "## Persisting the trained classifier\n",
    "\n",
    "Why not use pickle? Pickle is a serializer, with sqlite3, there are flexible queries etc that could be more useful."
   ]
  }
 ],
 "metadata": {
  "kernelspec": {
   "display_name": "Python 3",
   "language": "python",
   "name": "python3"
  },
  "language_info": {
   "codemirror_mode": {
    "name": "ipython",
    "version": 3
   },
   "file_extension": ".py",
   "mimetype": "text/x-python",
   "name": "python",
   "nbconvert_exporter": "python",
   "pygments_lexer": "ipython3",
   "version": "3.7.3"
  }
 },
 "nbformat": 4,
 "nbformat_minor": 2
}
