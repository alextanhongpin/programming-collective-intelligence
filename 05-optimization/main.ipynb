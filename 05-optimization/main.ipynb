{
 "cells": [
  {
   "cell_type": "code",
   "execution_count": 78,
   "metadata": {},
   "outputs": [],
   "source": [
    "import time\n",
    "import random\n",
    "import math"
   ]
  },
  {
   "cell_type": "code",
   "execution_count": 79,
   "metadata": {},
   "outputs": [],
   "source": [
    "people = [('Seymour', 'BOS'),\n",
    "          ('Franny', 'DAL'),\n",
    "          ('Zooey', 'CAK'),\n",
    "          ('Walt', 'MIA'),\n",
    "          ('Buddy', 'ORD'),\n",
    "          ('Les', 'OMA')]\n",
    "\n",
    "# LaGuardia airport in New York.\n",
    "destination = 'LGA'"
   ]
  },
  {
   "cell_type": "code",
   "execution_count": 80,
   "metadata": {},
   "outputs": [
    {
     "data": {
      "text/plain": [
       "{('LGA', 'OMA'): [('6:19', '8:13', 239),\n",
       "  ('8:04', '10:59', 136),\n",
       "  ('9:31', '11:43', 210),\n",
       "  ('11:07', '13:24', 171),\n",
       "  ('12:31', '14:02', 234),\n",
       "  ('14:05', '15:47', 226),\n",
       "  ('15:07', '17:21', 129),\n",
       "  ('16:35', '18:56', 144),\n",
       "  ('18:25', '20:34', 205),\n",
       "  ('20:05', '21:44', 172)],\n",
       " ('OMA', 'LGA'): [('6:11', '8:31', 249),\n",
       "  ('7:39', '10:24', 219),\n",
       "  ('9:15', '12:03', 99),\n",
       "  ('11:08', '13:07', 175),\n",
       "  ('12:18', '14:56', 172),\n",
       "  ('13:37', '15:08', 250),\n",
       "  ('15:03', '16:42', 135),\n",
       "  ('16:51', '19:09', 147),\n",
       "  ('18:12', '20:17', 242),\n",
       "  ('20:05', '22:06', 261)],\n",
       " ('LGA', 'ORD'): [('6:03', '8:43', 219),\n",
       "  ('7:50', '10:08', 164),\n",
       "  ('9:11', '10:42', 172),\n",
       "  ('10:33', '13:11', 132),\n",
       "  ('12:08', '14:47', 231),\n",
       "  ('14:19', '17:09', 190),\n",
       "  ('15:04', '17:23', 189),\n",
       "  ('17:06', '20:00', 95),\n",
       "  ('18:33', '20:22', 143),\n",
       "  ('19:32', '21:25', 160)],\n",
       " ('ORD', 'LGA'): [('6:05', '8:32', 174),\n",
       "  ('8:25', '10:34', 157),\n",
       "  ('9:42', '11:32', 169),\n",
       "  ('11:01', '12:39', 260),\n",
       "  ('12:44', '14:17', 134),\n",
       "  ('14:22', '16:32', 126),\n",
       "  ('15:58', '18:40', 173),\n",
       "  ('16:43', '19:00', 246),\n",
       "  ('18:48', '21:45', 246),\n",
       "  ('19:50', '22:24', 269)],\n",
       " ('LGA', 'MIA'): [('6:33', '9:14', 172),\n",
       "  ('8:23', '11:07', 143),\n",
       "  ('9:25', '12:46', 295),\n",
       "  ('11:08', '14:38', 262),\n",
       "  ('12:37', '15:05', 170),\n",
       "  ('14:08', '16:09', 232),\n",
       "  ('15:23', '18:49', 150),\n",
       "  ('16:50', '19:26', 304),\n",
       "  ('18:07', '21:30', 355),\n",
       "  ('20:27', '23:42', 169)],\n",
       " ('MIA', 'LGA'): [('6:25', '9:30', 335),\n",
       "  ('7:34', '9:40', 324),\n",
       "  ('9:15', '12:29', 225),\n",
       "  ('11:28', '14:40', 248),\n",
       "  ('12:05', '15:30', 330),\n",
       "  ('14:01', '17:24', 338),\n",
       "  ('15:34', '18:11', 326),\n",
       "  ('17:07', '20:04', 291),\n",
       "  ('18:23', '21:35', 134),\n",
       "  ('19:53', '22:21', 173)],\n",
       " ('LGA', 'BOS'): [('6:39', '8:09', 86),\n",
       "  ('8:23', '10:28', 149),\n",
       "  ('9:58', '11:18', 130),\n",
       "  ('10:33', '12:03', 74),\n",
       "  ('12:08', '14:05', 142),\n",
       "  ('13:39', '15:30', 74),\n",
       "  ('15:25', '16:58', 62),\n",
       "  ('17:03', '18:03', 103),\n",
       "  ('18:24', '20:49', 124),\n",
       "  ('19:58', '21:23', 142)],\n",
       " ('BOS', 'LGA'): [('6:17', '8:26', 89),\n",
       "  ('8:04', '10:11', 95),\n",
       "  ('9:45', '11:50', 172),\n",
       "  ('11:16', '13:29', 83),\n",
       "  ('12:34', '15:02', 109),\n",
       "  ('13:40', '15:37', 138),\n",
       "  ('15:27', '17:18', 151),\n",
       "  ('17:11', '18:30', 108),\n",
       "  ('18:34', '19:36', 136),\n",
       "  ('20:17', '22:22', 102)],\n",
       " ('LGA', 'DAL'): [('6:09', '9:49', 414),\n",
       "  ('7:57', '11:15', 347),\n",
       "  ('9:49', '13:51', 229),\n",
       "  ('10:51', '14:16', 256),\n",
       "  ('12:20', '16:34', 500),\n",
       "  ('14:20', '17:32', 332),\n",
       "  ('15:49', '20:10', 497),\n",
       "  ('17:14', '20:59', 277),\n",
       "  ('18:44', '22:42', 351),\n",
       "  ('19:57', '23:15', 512)],\n",
       " ('DAL', 'LGA'): [('6:12', '10:22', 230),\n",
       "  ('7:53', '11:37', 433),\n",
       "  ('9:08', '12:12', 364),\n",
       "  ('10:30', '14:57', 290),\n",
       "  ('12:19', '15:25', 342),\n",
       "  ('13:54', '18:02', 294),\n",
       "  ('15:44', '18:55', 382),\n",
       "  ('16:52', '20:48', 448),\n",
       "  ('18:26', '21:29', 464),\n",
       "  ('20:07', '23:27', 473)],\n",
       " ('LGA', 'CAK'): [('6:58', '9:01', 238),\n",
       "  ('8:19', '11:16', 122),\n",
       "  ('9:58', '12:56', 249),\n",
       "  ('10:32', '13:16', 139),\n",
       "  ('12:01', '13:41', 267),\n",
       "  ('13:37', '15:33', 142),\n",
       "  ('15:50', '18:45', 243),\n",
       "  ('16:33', '18:15', 253),\n",
       "  ('18:17', '21:04', 259),\n",
       "  ('19:46', '21:45', 214)],\n",
       " ('CAK', 'LGA'): [('6:08', '8:06', 224),\n",
       "  ('8:27', '10:45', 139),\n",
       "  ('9:15', '12:14', 247),\n",
       "  ('10:53', '13:36', 189),\n",
       "  ('12:08', '14:59', 149),\n",
       "  ('13:40', '15:38', 137),\n",
       "  ('15:23', '17:25', 232),\n",
       "  ('17:08', '19:08', 262),\n",
       "  ('18:35', '20:28', 204),\n",
       "  ('20:30', '23:11', 114)]}"
      ]
     },
     "execution_count": 80,
     "metadata": {},
     "output_type": "execute_result"
    }
   ],
   "source": [
    "flights = {}\n",
    "with open('schedule.txt') as f:\n",
    "    for line in f:\n",
    "        origin, dest, depart, arrive, price = line.strip().split(',')\n",
    "        flights.setdefault((origin, dest), [])\n",
    "        \n",
    "        # Add details to the list of possible flights.\n",
    "        flights[(origin,dest)].append((depart,arrive,int(price)))\n",
    "\n",
    "flights"
   ]
  },
  {
   "cell_type": "code",
   "execution_count": 81,
   "metadata": {},
   "outputs": [],
   "source": [
    "import time\n",
    "\n",
    "def get_minutes(t):\n",
    "    x = time.strptime(t, '%H:%M')\n",
    "    hr, mi = x[3], x[4]\n",
    "    return hr * 60 + mi"
   ]
  },
  {
   "cell_type": "code",
   "execution_count": 82,
   "metadata": {},
   "outputs": [],
   "source": [
    "def print_schedule(r):\n",
    "    for d in range(len(r)//2):\n",
    "        (name, origin) = people[d]\n",
    "        out = flights[(origin,destination)][r[d]]\n",
    "        ret = flights[(destination,origin)][r[d+1]]\n",
    "        print(f'{name:10s}{origin:10s} {out[0]:>5s}-{out[1]:>5s} ${str(out[2]):>3s} {ret[0]:>5s}-{ret[1]:>5s} ${str(ret[2]):>3s}')"
   ]
  },
  {
   "cell_type": "code",
   "execution_count": 83,
   "metadata": {},
   "outputs": [
    {
     "name": "stdout",
     "output_type": "stream",
     "text": [
      "Seymour   BOS         8:04-10:11 $ 95 12:08-14:05 $142\n",
      "Franny    DAL        12:19-15:25 $342 10:51-14:16 $256\n",
      "Zooey     CAK        10:53-13:36 $189  9:58-12:56 $249\n",
      "Walt      MIA         9:15-12:29 $225 16:50-19:26 $304\n",
      "Buddy     ORD        16:43-19:00 $246 10:33-13:11 $132\n",
      "Les       OMA        11:08-13:07 $175 15:07-17:21 $129\n"
     ]
    }
   ],
   "source": [
    "# An array pair of origin and destination.\n",
    "s = [1,4,3,2,7,3,6,3,2,4,5,3]\n",
    "print_schedule(s)"
   ]
  },
  {
   "cell_type": "markdown",
   "metadata": {},
   "source": [
    "## Cost Function\n",
    "\n",
    "The goal of any optimization algorithm is to find a set of inputs that minimizes the cost function, so the cost function has to return a value that represents how bad a solution is. The function should return larger values for worse solutions.\n",
    "\n",
    "In the scenario for flights:\n",
    "- price: the total price of all plane tickets\n",
    "- travel time: the time everyone has to spend on a plane\n",
    "- departure time: flight that leave too erly in the morning may impose an additional cost by requiring travelers to miss out on sleep\n",
    "- car rental period: if the party rents a car, they must return it earlier in the day than when they rented it, or be forced to pay for a whole extra day"
   ]
  },
  {
   "cell_type": "code",
   "execution_count": 84,
   "metadata": {},
   "outputs": [],
   "source": [
    "def schedule_cost(solution):\n",
    "    if solution is None: return -1\n",
    "    total_price = 0\n",
    "    latest_arrival = 0\n",
    "    earliest_departure = 24 * 60\n",
    "    \n",
    "    for d in range(len(solution) // 2):\n",
    "        # Get the inbound and outbound flights.\n",
    "        (_,origin) = people[d]\n",
    "        outbound = flights[(origin,destination)][int(solution[d])]\n",
    "        returnf = flights[(destination,origin)][int(solution[d+1])]\n",
    "        \n",
    "        # Destructure to simplify. o_: outbound, r_: return.\n",
    "        (o_depart, o_arrive, o_price) = outbound\n",
    "        (r_depart, r_arrive, r_price) = returnf\n",
    "        \n",
    "        # Total price is the price of all outbound and return flight.\n",
    "        total_price += o_price\n",
    "        total_price += r_price\n",
    "        \n",
    "        # Track the latest arrival and earliest departure.\n",
    "        if latest_arrival < get_minutes(o_arrive): latest_arrival = get_minutes(o_arrive)\n",
    "        if earliest_departure > get_minutes(r_depart): earliest_departure = get_minutes(r_depart)\n",
    "        \n",
    "    # Every person must wait at the airport until the latest person arrives.\n",
    "    # They also must arrive at the same time and wait for their flights.\n",
    "    total_wait = 0\n",
    "    for d in range(len(solution) // 2):\n",
    "        (_,origin) = people[d]\n",
    "        outbound = flights[(origin,destination)][int(solution[d])]\n",
    "        returnf = flights[(destination,origin)][int(solution[d+1])]\n",
    "        (_,o_arrive,_) = outbound\n",
    "        (r_depart,_,_) = returnf\n",
    "        total_wait += latest_arrival - get_minutes(o_arrive)\n",
    "        total_wait += get_minutes(r_depart) - earliest_departure\n",
    "    \n",
    "    # Does this solution require an exra day of car rental? That'll be $50!\n",
    "    if latest_arrival > earliest_departure: total_price += 50\n",
    "\n",
    "    return total_price + total_wait"
   ]
  },
  {
   "cell_type": "code",
   "execution_count": 85,
   "metadata": {},
   "outputs": [
    {
     "data": {
      "text/plain": [
       "5285"
      ]
     },
     "execution_count": 85,
     "metadata": {},
     "output_type": "execute_result"
    }
   ],
   "source": [
    "schedule_cost(s)"
   ]
  },
  {
   "cell_type": "code",
   "execution_count": 86,
   "metadata": {},
   "outputs": [],
   "source": [
    "def random_optimize(domain, costf):\n",
    "    best = 999999999\n",
    "    bestr = None\n",
    "\n",
    "    for i in range(1000):\n",
    "        # Create a random solution.\n",
    "        r = [random.randint(domain[i][0], domain[i][1])\n",
    "             for i in range(len(domain))]\n",
    "        \n",
    "        # Get the cost.\n",
    "        cost = costf(r)\n",
    "        \n",
    "        # Compare it to the best one so far.\n",
    "        if cost < best:\n",
    "            best = cost\n",
    "            bestr = r\n",
    "    return r"
   ]
  },
  {
   "cell_type": "code",
   "execution_count": 87,
   "metadata": {},
   "outputs": [
    {
     "data": {
      "text/plain": [
       "5732"
      ]
     },
     "execution_count": 87,
     "metadata": {},
     "output_type": "execute_result"
    }
   ],
   "source": [
    "domain = [(0,8)] * (len(people) * 2)\n",
    "s = random_optimize(domain, schedule_cost)\n",
    "schedule_cost(s)"
   ]
  },
  {
   "cell_type": "code",
   "execution_count": 88,
   "metadata": {},
   "outputs": [
    {
     "name": "stdout",
     "output_type": "stream",
     "text": [
      "Seymour   BOS         8:04-10:11 $ 95 15:25-16:58 $ 62\n",
      "Franny    DAL        15:44-18:55 $382 10:51-14:16 $256\n",
      "Zooey     CAK        10:53-13:36 $189 13:37-15:33 $142\n",
      "Walt      MIA        14:01-17:24 $338 11:08-14:38 $262\n",
      "Buddy     ORD        11:01-12:39 $260  7:50-10:08 $164\n",
      "Les       OMA         7:39-10:24 $219  9:31-11:43 $210\n"
     ]
    }
   ],
   "source": [
    "print_schedule(s)"
   ]
  },
  {
   "cell_type": "code",
   "execution_count": 89,
   "metadata": {},
   "outputs": [],
   "source": [
    "def hill_climbing(domain, costf):\n",
    "    # Create a random solution.\n",
    "    sol = [random.randint(domain[i][0], domain[i][1])\n",
    "           for i in range(len(domain))]\n",
    "    \n",
    "    # Main loop.\n",
    "    while 1:\n",
    "        # Create list of neighbouring solution.\n",
    "        neighbors = []\n",
    "        for j in range(len(domain)):\n",
    "            \n",
    "            # One away in each direction.\n",
    "            if sol[j] > domain[j][0]:\n",
    "                neighbors.append(sol[0:j]+[sol[j]+1]+sol[j+1:])\n",
    "            \n",
    "            if sol[j] < domain[j][1]:\n",
    "                neighbors.append(sol[0:j]+[sol[j]-1]+sol[j+1:])\n",
    "        \n",
    "        # See what the best solution amongst the neighbors is.\n",
    "        current = costf(sol)\n",
    "        best = current\n",
    "        for j in range(len(neighbors)):\n",
    "            cost = costf(neighbors[j])\n",
    "            if cost < best:\n",
    "                best = cost\n",
    "                sol = neighbors[j]\n",
    "                \n",
    "        # If there are no improvements, then we've reached the top.\n",
    "        if best == current:\n",
    "            break\n",
    "        \n",
    "    return sol"
   ]
  },
  {
   "cell_type": "code",
   "execution_count": 90,
   "metadata": {},
   "outputs": [
    {
     "name": "stdout",
     "output_type": "stream",
     "text": [
      "Seymour   BOS        18:34-19:36 $136 13:39-15:30 $ 74\n",
      "Franny    DAL        13:54-18:02 $294 17:14-20:59 $277\n",
      "Zooey     CAK        17:08-19:08 $262 13:37-15:33 $142\n",
      "Walt      MIA        14:01-17:24 $338 18:07-21:30 $355\n",
      "Buddy     ORD        18:48-21:45 $246 17:06-20:00 $ 95\n",
      "Les       OMA        16:51-19:09 $147 15:07-17:21 $129\n"
     ]
    }
   ],
   "source": [
    "s = hill_climbing(domain, schedule_cost)\n",
    "print_schedule(s)"
   ]
  },
  {
   "cell_type": "markdown",
   "metadata": {},
   "source": [
    "## Simulated annealing\n",
    "\n",
    "Optimization method inspired by physics. "
   ]
  },
  {
   "cell_type": "code",
   "execution_count": 91,
   "metadata": {},
   "outputs": [],
   "source": [
    "def annealing_optimization(domain, costf, T=10000.0, cool=0.95,step=1):\n",
    "    # Initialize the values randomly.\n",
    "    vec = [float(random.randint(domain[i][0], domain[i][1]))\n",
    "           for i in range(len(domain))]\n",
    "    \n",
    "    while T > 0.1:\n",
    "        # Choose one of the indices.\n",
    "        i = random.randint(0, len(domain) - 1)\n",
    "        \n",
    "        # Choose a direction to change it.\n",
    "        dir = random.randint(-step, step)\n",
    "        \n",
    "        # Create a new list with one of the values changed.\n",
    "        vecb = vec[:]\n",
    "        vecb[i] += dir\n",
    "        if vecb[i] < domain[i][0]: vecb[i] = domain[i][0]\n",
    "        elif vecb[i] > domain[i][1]: vecb[i] = domain[i][1]\n",
    "            \n",
    "        # Calculate the current cost and the new cost.\n",
    "        ea = costf(vec)\n",
    "        eb = costf(vecb)\n",
    "        p = pow(math.e, (-eb-ea)/T)\n",
    "        \n",
    "        # Is it better, or does it make the probability cutoff?\n",
    "        if (eb < ea or random.random() < p):\n",
    "            vec = vecb\n",
    "        \n",
    "        # Decrease the temperature.\n",
    "        T = T * cool\n",
    "    return [int(v) for v in vec]"
   ]
  },
  {
   "cell_type": "code",
   "execution_count": 92,
   "metadata": {},
   "outputs": [
    {
     "name": "stdout",
     "output_type": "stream",
     "text": [
      "Seymour   BOS        12:34-15:02 $109 10:33-12:03 $ 74\n",
      "Franny    DAL        10:30-14:57 $290 10:51-14:16 $256\n",
      "Zooey     CAK        10:53-13:36 $189 10:32-13:16 $139\n",
      "Walt      MIA        11:28-14:40 $248  8:23-11:07 $143\n",
      "Buddy     ORD         8:25-10:34 $157  9:11-10:42 $172\n",
      "Les       OMA         9:15-12:03 $ 99  8:04-10:59 $136\n"
     ]
    }
   ],
   "source": [
    "s = annealing_optimization(domain, schedule_cost)\n",
    "print_schedule(s)"
   ]
  },
  {
   "cell_type": "markdown",
   "metadata": {},
   "source": [
    "## Genetic algorithms"
   ]
  },
  {
   "cell_type": "code",
   "execution_count": 93,
   "metadata": {},
   "outputs": [],
   "source": [
    "def genetic_optimize(domain, costf, popsize=50, step=1, mutprob=0.2, elite=0.2, maxiter=100):\n",
    "        \"\"\"\n",
    "        popsize: the size of the population\n",
    "        mutprob: the probability that a new member of the population will be a mutation rather than a crossover\n",
    "        elite: the fraction of the population that are considered good solutions and are allowed to pass into the next generation\n",
    "        maxiter: the number of generations to run\n",
    "        \"\"\"\n",
    "        \n",
    "        # Mutation operation.\n",
    "        def mutate(vec):\n",
    "            i = random.randint(0, len(domain) -1)\n",
    "            if random.random() < 0.5 and vec[i] > domain[i][0]:\n",
    "                return vec[0:i] + [vec[i]-step] + vec[i+1:]\n",
    "            elif vec[i] < domain[i][1]:\n",
    "                return vec[0:i] + [vec[i]+step] + vec[i+1:]\n",
    "        \n",
    "        # Crossover operation.\n",
    "        def crossover(r1, r2):\n",
    "            i = random.randint(1,len(domain)-2)\n",
    "            return r1[0:i] + r2[i:]\n",
    "        \n",
    "        # Build the initial population.\n",
    "        pop = []\n",
    "        for i in range(popsize):\n",
    "            vec = [random.randint(domain[i][0], domain[i][1])\n",
    "                   for i in range(len(domain))]\n",
    "            pop.append(vec)\n",
    "        \n",
    "        # How many winners from each generation?\n",
    "        top_elite = int(elite * popsize)\n",
    "        \n",
    "        # Main loop.\n",
    "        for i in range(maxiter):\n",
    "            scores = [(costf(v), v) for v in pop]\n",
    "            scores.sort()\n",
    "            ranked = [v for (s, v) in scores]\n",
    "            \n",
    "            # Start with the pure winners.\n",
    "            pop = ranked[0:top_elite]\n",
    "            \n",
    "            # Add mutated and bred forms of the winners.\n",
    "            while len(pop) < popsize:\n",
    "                if random.random() < mutprob:\n",
    "                    # Mutation.\n",
    "                    c = random.randint(0, top_elite)\n",
    "                    pop.append(mutate(ranked[c]))\n",
    "                else:\n",
    "                    # Crossover.\n",
    "                    c1 = random.randint(0, top_elite)\n",
    "                    c2 = random.randint(0, top_elite)\n",
    "                    pop.append(crossover(ranked[c1], ranked[c2]))\n",
    "            # Print current best score.\n",
    "            # print(scores[0][0])\n",
    "        return scores[0][1]"
   ]
  },
  {
   "cell_type": "code",
   "execution_count": 94,
   "metadata": {},
   "outputs": [
    {
     "name": "stdout",
     "output_type": "stream",
     "text": [
      "Seymour   BOS        12:34-15:02 $109 10:33-12:03 $ 74\n",
      "Franny    DAL        10:30-14:57 $290 10:51-14:16 $256\n",
      "Zooey     CAK        10:53-13:36 $189 10:32-13:16 $139\n",
      "Walt      MIA        11:28-14:40 $248 12:37-15:05 $170\n",
      "Buddy     ORD        12:44-14:17 $134 10:33-13:11 $132\n",
      "Les       OMA        11:08-13:07 $175 11:07-13:24 $171\n"
     ]
    }
   ],
   "source": [
    "s = genetic_optimize(domain, schedule_cost)\n",
    "print_schedule(s)"
   ]
  }
 ],
 "metadata": {
  "kernelspec": {
   "display_name": "Python 3",
   "language": "python",
   "name": "python3"
  },
  "language_info": {
   "codemirror_mode": {
    "name": "ipython",
    "version": 3
   },
   "file_extension": ".py",
   "mimetype": "text/x-python",
   "name": "python",
   "nbconvert_exporter": "python",
   "pygments_lexer": "ipython3",
   "version": "3.7.3"
  }
 },
 "nbformat": 4,
 "nbformat_minor": 2
}
