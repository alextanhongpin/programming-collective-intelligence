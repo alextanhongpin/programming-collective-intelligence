{
 "cells": [
  {
   "cell_type": "markdown",
   "metadata": {},
   "source": [
    "## Student dorm optimization\n",
    "\n",
    "This is essentially the stable marriage problem.\n",
    "\n",
    "Assigning students to dorms depending on their first and second choice. Similar usecases includes:\n",
    "- assing tables to players in an onlie card game\n",
    "- assign bugs to developers in a large coding project\n",
    "- assign housework to household members\n",
    "\n",
    "There are five dorms, each with two spaces available and ten students vying for a spot. Each student has the first and second choices. "
   ]
  },
  {
   "cell_type": "code",
   "execution_count": 5,
   "metadata": {},
   "outputs": [],
   "source": [
    "import random\n",
    "import math\n",
    "\n",
    "# The dorms, each of which has two available space.\n",
    "dorms = ['Zeus', 'Athena', 'Hercules', 'Bacchus', 'Pluto']"
   ]
  },
  {
   "cell_type": "code",
   "execution_count": 4,
   "metadata": {},
   "outputs": [],
   "source": [
    "# People, along with their first and second choices.\n",
    "prefs = [('Toby', ('Bacchus', 'Hercules')),\n",
    "         ('Steve', ('Zeus', 'Pluto')),\n",
    "         ('Andrea', ('Athena', 'Zeus')),\n",
    "         ('Sarah', ('Zeus', 'Pluto')),\n",
    "         ('Dave', ('Athena', 'Bacchus')),\n",
    "         ('Jeff', ('Hercules', 'Pluto')),\n",
    "         ('Fred', ('Pluto', 'Athena')),\n",
    "         ('Suzie', ('Bacchus', 'Hercules')),\n",
    "         ('Laura', ('Bacchus', 'Hercules')),\n",
    "         ('Neil', ('Hercules', 'Athena'))]"
   ]
  },
  {
   "cell_type": "code",
   "execution_count": 3,
   "metadata": {},
   "outputs": [
    {
     "data": {
      "text/plain": [
       "[(0, 9),\n",
       " (0, 8),\n",
       " (0, 7),\n",
       " (0, 6),\n",
       " (0, 5),\n",
       " (0, 4),\n",
       " (0, 3),\n",
       " (0, 2),\n",
       " (0, 1),\n",
       " (0, 0)]"
      ]
     },
     "execution_count": 3,
     "metadata": {},
     "output_type": "execute_result"
    }
   ],
   "source": [
    "domain = [(0, (len(dorms) * 2)-i-1) for i in range(0, len(dorms) * 2)]\n",
    "domain"
   ]
  },
  {
   "cell_type": "code",
   "execution_count": 6,
   "metadata": {},
   "outputs": [],
   "source": [
    "def print_solution(vec):\n",
    "    slots = []\n",
    "    # Create two slots for each dorm.\n",
    "    for i in range(len(dorms)): slots += [i,i]\n",
    "        \n",
    "    # Loop over each students assignment.\n",
    "    for i in range(len(vec)):\n",
    "        x = int(vec[i])\n",
    "        \n",
    "        # Choose the slot from the remaining ones.\n",
    "        dorm = dorms[slots[x]]\n",
    "        \n",
    "        # Show the student and assigned form.\n",
    "        print(prefs[i][0], dorm)\n",
    "        \n",
    "        # Remove this slot.\n",
    "        del slots[x]"
   ]
  },
  {
   "cell_type": "code",
   "execution_count": 8,
   "metadata": {},
   "outputs": [
    {
     "name": "stdout",
     "output_type": "stream",
     "text": [
      "Toby Zeus\n",
      "Steve Zeus\n",
      "Andrea Athena\n",
      "Sarah Athena\n",
      "Dave Hercules\n",
      "Jeff Hercules\n",
      "Fred Bacchus\n",
      "Suzie Bacchus\n"
     ]
    }
   ],
   "source": [
    "print_solution([0,0,0,0,0,0,0,0])"
   ]
  },
  {
   "cell_type": "code",
   "execution_count": 10,
   "metadata": {},
   "outputs": [],
   "source": [
    "def dorm_cost(vec):\n",
    "    cost = 0\n",
    "    \n",
    "    # Create a list of slots.\n",
    "    slots = [0,0,1,1,2,2,3,3,4,4]\n",
    "    \n",
    "    # Loop over each student.\n",
    "    for i in range(len(vec)):\n",
    "        x = int(vec[i])\n",
    "        dorms = dorms[slots[x]]\n",
    "        pref = prefs[i][1]\n",
    "        \n",
    "        # First choice costs 0, second choice costs 1.\n",
    "        if pref[0] == dorm: cost += 0\n",
    "        elif pref[1] == dorm: cost += 1\n",
    "        else: cost += 3\n",
    "        # Not on the list costs 3\n",
    "        \n",
    "        # Remove the selected slot.\n",
    "        del slots[x]\n",
    "\n",
    "    return cost"
   ]
  }
 ],
 "metadata": {
  "kernelspec": {
   "display_name": "Python 3",
   "language": "python",
   "name": "python3"
  },
  "language_info": {
   "codemirror_mode": {
    "name": "ipython",
    "version": 3
   },
   "file_extension": ".py",
   "mimetype": "text/x-python",
   "name": "python",
   "nbconvert_exporter": "python",
   "pygments_lexer": "ipython3",
   "version": "3.7.3"
  }
 },
 "nbformat": 4,
 "nbformat_minor": 2
}
